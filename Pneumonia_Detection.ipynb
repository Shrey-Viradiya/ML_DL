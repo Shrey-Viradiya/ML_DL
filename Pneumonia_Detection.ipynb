{
 "cells": [
  {
   "cell_type": "code",
   "execution_count": 1,
   "metadata": {
    "colab": {
     "base_uri": "https://localhost:8080/",
     "height": 372
    },
    "colab_type": "code",
    "id": "BPL7eOXpbfFh",
    "outputId": "9b6a9c77-0f71-4d9c-ba09-0af240496e87"
   },
   "outputs": [
    {
     "name": "stdout",
     "output_type": "stream",
     "text": [
      "Fri Jun 26 02:04:06 2020       \n",
      "+-----------------------------------------------------------------------------+\n",
      "| NVIDIA-SMI 450.36.06    Driver Version: 450.36.06    CUDA Version: 11.0     |\n",
      "|-------------------------------+----------------------+----------------------+\n",
      "| GPU  Name        Persistence-M| Bus-Id        Disp.A | Volatile Uncorr. ECC |\n",
      "| Fan  Temp  Perf  Pwr:Usage/Cap|         Memory-Usage | GPU-Util  Compute M. |\n",
      "|                               |                      |               MIG M. |\n",
      "|===============================+======================+======================|\n",
      "|   0  GeForce 920MX       On   | 00000000:01:00.0 Off |                  N/A |\n",
      "| N/A   55C    P0    N/A /  N/A |    154MiB /  2004MiB |      2%      Default |\n",
      "|                               |                      |                  N/A |\n",
      "+-------------------------------+----------------------+----------------------+\n",
      "                                                                               \n",
      "+-----------------------------------------------------------------------------+\n",
      "| Processes:                                                                  |\n",
      "|  GPU   GI   CI        PID   Type   Process name                  GPU Memory |\n",
      "|        ID   ID                                                   Usage      |\n",
      "|=============================================================================|\n",
      "|    0   N/A  N/A      1052      G   /usr/lib/xorg/Xorg                 20MiB |\n",
      "|    0   N/A  N/A      1639      G   /usr/lib/xorg/Xorg                 56MiB |\n",
      "|    0   N/A  N/A      2004      G   /usr/bin/gnome-shell               69MiB |\n",
      "+-----------------------------------------------------------------------------+\n"
     ]
    }
   ],
   "source": [
    "!nvidia-smi"
   ]
  },
  {
   "cell_type": "code",
   "execution_count": 2,
   "metadata": {
    "colab": {},
    "colab_type": "code",
    "id": "5BPTlAUEnk13"
   },
   "outputs": [],
   "source": [
    "!mkdir -p ~/.kaggle\n",
    "!cp kaggle.json ~/.kaggle/"
   ]
  },
  {
   "cell_type": "code",
   "execution_count": 3,
   "metadata": {
    "colab": {
     "base_uri": "https://localhost:8080/",
     "height": 52
    },
    "colab_type": "code",
    "id": "Q5JnczbWnoWp",
    "outputId": "37853b9b-385c-4249-c0d1-5ae9d9dbee7e"
   },
   "outputs": [
    {
     "name": "stdout",
     "output_type": "stream",
     "text": [
      "Warning: Your Kaggle API key is readable by other users on this system! To fix this, you can run 'chmod 600 /root/.kaggle/kaggle.json'\n",
      "chest-xray-pneumonia.zip: Skipping, found more recently modified local copy (use --force to force download)\n"
     ]
    }
   ],
   "source": [
    "!kaggle datasets download -d paultimothymooney/chest-xray-pneumonia"
   ]
  },
  {
   "cell_type": "code",
   "execution_count": null,
   "metadata": {
    "colab": {
     "base_uri": "https://localhost:8080/",
     "height": 1000
    },
    "colab_type": "code",
    "id": "nMtpCHKhnqeb",
    "outputId": "98e0cc31-2cc0-42eb-81f8-11f086f7a101"
   },
   "outputs": [],
   "source": [
    "!unzip chest-xray-pneumonia.zip"
   ]
  },
  {
   "cell_type": "code",
   "execution_count": 5,
   "metadata": {
    "colab": {},
    "colab_type": "code",
    "id": "0EyEKsN7nsw2"
   },
   "outputs": [],
   "source": [
    "!rm -r chest_xray/chest_xray/ -f\n",
    "!rm -r chest_xray/__MACOSX/ -f"
   ]
  },
  {
   "cell_type": "markdown",
   "metadata": {
    "_uuid": "9d52bb00b8b17ad8e533d3f4aa0bc34e5f693245",
    "colab_type": "text",
    "id": "KRtp_4C1nZbm"
   },
   "source": [
    "# Convolutional Neural Network to detect Pneumonia\n"
   ]
  },
  {
   "cell_type": "code",
   "execution_count": null,
   "metadata": {
    "colab": {},
    "colab_type": "code",
    "id": "XNYnzdKb0Xj7"
   },
   "outputs": [],
   "source": [
    "import numpy as np\n",
    "import matplotlib.pyplot as plt\n",
    "import tensorflow as tf\n",
    "import tensorflow.keras as keras"
   ]
  },
  {
   "cell_type": "code",
   "execution_count": 3,
   "metadata": {
    "_cell_guid": "b1076dfc-b9ad-4769-8c92-a6c4dae69d19",
    "_uuid": "8f2839f25d086af736a60e9eeb907d3b93b6e0e5",
    "colab": {
     "base_uri": "https://localhost:8080/",
     "height": 34
    },
    "colab_type": "code",
    "id": "3DBNQJFdnZbz",
    "outputId": "6153c24c-5fb4-4ae3-9c98-4c4dccb93ee0",
    "scrolled": true
   },
   "outputs": [
    {
     "name": "stderr",
     "output_type": "stream",
     "text": [
      "Using TensorFlow backend.\n"
     ]
    }
   ],
   "source": [
    "import numpy as np\n",
    "import pandas as pd\n",
    "from matplotlib import pyplot as plt\n",
    "import tensorflow as tf\n",
    "import keras"
   ]
  },
  {
   "cell_type": "markdown",
   "metadata": {
    "_uuid": "cbc521dcb863f9ce144a10addf703e556e2f6100",
    "colab_type": "text",
    "id": "ihpWjzQFnZcM"
   },
   "source": [
    "## Data Analysis and Preprocessing"
   ]
  },
  {
   "cell_type": "markdown",
   "metadata": {
    "_uuid": "9f3a8f76996019313a330af1082a80983f3c0601",
    "colab_type": "text",
    "id": "OFgGsMOmnZcQ"
   },
   "source": [
    "Getting all images in the dataset"
   ]
  },
  {
   "cell_type": "code",
   "execution_count": 4,
   "metadata": {
    "_uuid": "8456c5020dbbe6f83c1a7fe218789925d7fb975e",
    "colab": {},
    "colab_type": "code",
    "id": "X51qkS_knZcS"
   },
   "outputs": [],
   "source": [
    "path_train = \"./chest_xray/train\"\n",
    "path_val = \"./chest_xray/val\"\n",
    "path_test = \"./chest_xray/test\""
   ]
  },
  {
   "cell_type": "code",
   "execution_count": 5,
   "metadata": {
    "colab": {
     "base_uri": "https://localhost:8080/",
     "height": 364
    },
    "colab_type": "code",
    "id": "EdmiQ2bG0rmG",
    "outputId": "061d6bae-f22a-4cfc-e82a-04447892c905"
   },
   "outputs": [
    {
     "name": "stdout",
     "output_type": "stream",
     "text": [
      "Let's plot some random images\n",
      "-----------------------------\n"
     ]
    },
    {
     "data": {
      "text/plain": [
       "Text(0.5, 1.0, 'person443_bacteria_1926.jpeg')"
      ]
     },
     "execution_count": 5,
     "metadata": {
      "tags": []
     },
     "output_type": "execute_result"
    },
    {
     "data": {
      "image/png": "[encoded data removed]",
      "text/plain": [
       "<Figure size 720x432 with 2 Axes>"
      ]
     },
     "metadata": {
      "needs_background": "light",
      "tags": []
     },
     "output_type": "display_data"
    }
   ],
   "source": [
    "import os\n",
    "from PIL import Image\n",
    "\n",
    "print(\"Let's plot some random images\")\n",
    "print(\"-----------------------------\")\n",
    "\n",
    "images = os.listdir(path_train+'/NORMAL')\n",
    "name1 = images[np.random.randint(0,len(images))]\n",
    "path1 = path_train + \"/NORMAL/\" + name1\n",
    "\n",
    "images = os.listdir(path_train+'/PNEUMONIA')\n",
    "name2 = images[np.random.randint(0,len(images))]\n",
    "path2 = path_train + \"/PNEUMONIA/\" + name2\n",
    "\n",
    "plt.figure(figsize= (10,6))\n",
    "\n",
    "plt.subplot(121)\n",
    "plt.imshow(Image.open(path1), cmap='gray')\n",
    "plt.title(name1)\n",
    "\n",
    "plt.subplot(122)\n",
    "plt.imshow(Image.open(path2), cmap='gray')\n",
    "plt.title(name2)"
   ]
  },
  {
   "cell_type": "markdown",
   "metadata": {
    "_uuid": "c2223c7073cc46e9a01f2881517f7fdbaca09a9b",
    "colab_type": "text",
    "id": "Vj5oGz2cnZdl"
   },
   "source": [
    "### Transforming the images\n",
    "* We're changing the sizes of the images to 226 x 226 and we'll flip the images horizontally as well so that we can have more data(images) to train on."
   ]
  },
  {
   "cell_type": "code",
   "execution_count": 6,
   "metadata": {
    "_cell_guid": "79c7e3d0-c299-4dcb-8224-4455121ee9b0",
    "_uuid": "d629ff2d2480ee46fbb7e2d37f6b5fab8052498a",
    "colab": {},
    "colab_type": "code",
    "id": "BdeQ_-iOnZdq"
   },
   "outputs": [],
   "source": [
    "#Data preprocessing and analysis\n",
    "classes = [\"NORMAL\", \"PNEUMONIA\"]\n",
    "data_gen = keras.preprocessing.image.ImageDataGenerator() #Augmentation happens here\n",
    "#But in this example we're not going to give the ImageDataGenerator method any parameters to augment our data."
   ]
  },
  {
   "cell_type": "code",
   "execution_count": 7,
   "metadata": {
    "_uuid": "9e110a80e256fddf7b871c2093afb75e552260d3",
    "colab": {
     "base_uri": "https://localhost:8080/",
     "height": 70
    },
    "colab_type": "code",
    "id": "zkrkutcMnZd5",
    "outputId": "c4bfea9a-7c94-4732-8bd6-e0fe6ac7d005"
   },
   "outputs": [
    {
     "name": "stdout",
     "output_type": "stream",
     "text": [
      "Found 5216 images belonging to 2 classes.\n",
      "Found 16 images belonging to 2 classes.\n",
      "Found 624 images belonging to 2 classes.\n"
     ]
    }
   ],
   "source": [
    "train_batches = data_gen.flow_from_directory(path_train, target_size = (226, 226), classes = classes, class_mode = \"categorical\")\n",
    "val_batches = data_gen.flow_from_directory(path_val, target_size = (226, 226), classes = classes, class_mode = \"categorical\")\n",
    "test_batches = data_gen.flow_from_directory(path_test, target_size = (226, 226), classes = classes, class_mode = \"categorical\")"
   ]
  },
  {
   "cell_type": "code",
   "execution_count": 8,
   "metadata": {
    "_uuid": "283796e255c899910559419f54b8ad9550493ebc",
    "colab": {
     "base_uri": "https://localhost:8080/",
     "height": 34
    },
    "colab_type": "code",
    "id": "N0850N-1nZeA",
    "outputId": "03d326af-27bb-4239-ee24-9ec489bf7a5d"
   },
   "outputs": [
    {
     "data": {
      "text/plain": [
       "(226, 226, 3)"
      ]
     },
     "execution_count": 8,
     "metadata": {
      "tags": []
     },
     "output_type": "execute_result"
    }
   ],
   "source": [
    "train_batches.image_shape"
   ]
  },
  {
   "cell_type": "markdown",
   "metadata": {
    "_uuid": "7990db2d817f4eac244b424aed15668f1f6b3b2b",
    "colab_type": "text",
    "id": "Dqkc8WLjnZeG"
   },
   "source": [
    "## The Artificial Neural Network"
   ]
  },
  {
   "cell_type": "markdown",
   "metadata": {
    "_uuid": "9b223c246034b36262e7233e0e6fdc7ed7b183c8",
    "colab_type": "text",
    "id": "6-Wkb4cgnZeH"
   },
   "source": [
    "### Model 1\n",
    "Source to model is [here.](https://gist.github.com/baraldilorenzo/07d7802847aaad0a35d3)"
   ]
  },
  {
   "cell_type": "code",
   "execution_count": 9,
   "metadata": {
    "_uuid": "8b60d27aa4e21493fdab757baf6d2116619444f7",
    "colab": {},
    "colab_type": "code",
    "id": "sJJBgwS9nZeI"
   },
   "outputs": [],
   "source": [
    "#This is a Convolutional Artificial Neural Network\n",
    "#VGG16 Model\n",
    "model = keras.models.Sequential()\n",
    "model.add(keras.layers.ZeroPadding2D((1,1),input_shape=train_batches.image_shape))\n",
    "model.add(keras.layers.Conv2D(64, (3, 3), activation='relu'))\n",
    "model.add(keras.layers.ZeroPadding2D((1,1)))\n",
    "model.add(keras.layers.Conv2D(64, (3, 3), activation='relu'))\n",
    "model.add(keras.layers.MaxPooling2D((2,2), strides=(2,2)))\n",
    "\n",
    "model.add(keras.layers.ZeroPadding2D((1,1)))\n",
    "model.add(keras.layers.Conv2D(128, (3, 3), activation='relu'))\n",
    "model.add(keras.layers.ZeroPadding2D((1,1)))\n",
    "model.add(keras.layers.Conv2D(128, (3, 3), activation='relu'))\n",
    "model.add(keras.layers.MaxPooling2D((2,2), strides=(2,2)))\n",
    "\n",
    "model.add(keras.layers.ZeroPadding2D((1,1)))\n",
    "model.add(keras.layers.Conv2D(256, (3, 3), activation='relu'))\n",
    "model.add(keras.layers.ZeroPadding2D((1,1)))\n",
    "model.add(keras.layers.Conv2D(256, (3, 3), activation='relu'))\n",
    "model.add(keras.layers.ZeroPadding2D((1,1)))\n",
    "model.add(keras.layers.Conv2D(256, (3, 3), activation='relu'))\n",
    "model.add(keras.layers.MaxPooling2D((2,2), strides=(2,2)))\n",
    "\n",
    "model.add(keras.layers.ZeroPadding2D((1,1)))\n",
    "model.add(keras.layers.Conv2D(512, (3, 3), activation='relu'))\n",
    "model.add(keras.layers.ZeroPadding2D((1,1)))\n",
    "model.add(keras.layers.Conv2D(512, (3, 3), activation='relu'))\n",
    "model.add(keras.layers.ZeroPadding2D((1,1)))\n",
    "model.add(keras.layers.Conv2D(512, (3, 3), activation='relu'))\n",
    "model.add(keras.layers.MaxPooling2D((2,2), strides=(2,2)))\n",
    "\n",
    "model.add(keras.layers.ZeroPadding2D((1,1)))\n",
    "model.add(keras.layers.Conv2D(512, (3, 3), activation='relu'))\n",
    "model.add(keras.layers.ZeroPadding2D((1,1)))\n",
    "model.add(keras.layers.Conv2D(512, (3, 3), activation='relu'))\n",
    "model.add(keras.layers.ZeroPadding2D((1,1)))\n",
    "model.add(keras.layers.Conv2D(512, (3, 3), activation='relu'))\n",
    "model.add(keras.layers.MaxPooling2D((2,2), strides=(2,2)))\n",
    "\n",
    "model.add(keras.layers.Flatten())\n",
    "model.add(keras.layers.Dense(4096, activation='relu'))\n",
    "model.add(keras.layers.Dropout(0.5))\n",
    "model.add(keras.layers.Dense(4096, activation='relu'))\n",
    "model.add(keras.layers.Dropout(0.5))\n",
    "model.add(keras.layers.Dense(2, activation='softmax'))"
   ]
  },
  {
   "cell_type": "code",
   "execution_count": 10,
   "metadata": {
    "_uuid": "3256d49c683e35184d560ea5dcc3e5c3f21f246a",
    "colab": {
     "base_uri": "https://localhost:8080/",
     "height": 1000
    },
    "colab_type": "code",
    "id": "bn3_Bx13nZeM",
    "outputId": "bfcd151a-6913-47f9-975c-6000d8521ae6"
   },
   "outputs": [
    {
     "name": "stdout",
     "output_type": "stream",
     "text": [
      "Model: \"sequential_1\"\n",
      "_________________________________________________________________\n",
      "Layer (type)                 Output Shape              Param #   \n",
      "=================================================================\n",
      "zero_padding2d_1 (ZeroPaddin (None, 228, 228, 3)       0         \n",
      "_________________________________________________________________\n",
      "conv2d_1 (Conv2D)            (None, 226, 226, 64)      1792      \n",
      "_________________________________________________________________\n",
      "zero_padding2d_2 (ZeroPaddin (None, 228, 228, 64)      0         \n",
      "_________________________________________________________________\n",
      "conv2d_2 (Conv2D)            (None, 226, 226, 64)      36928     \n",
      "_________________________________________________________________\n",
      "max_pooling2d_1 (MaxPooling2 (None, 113, 113, 64)      0         \n",
      "_________________________________________________________________\n",
      "zero_padding2d_3 (ZeroPaddin (None, 115, 115, 64)      0         \n",
      "_________________________________________________________________\n",
      "conv2d_3 (Conv2D)            (None, 113, 113, 128)     73856     \n",
      "_________________________________________________________________\n",
      "zero_padding2d_4 (ZeroPaddin (None, 115, 115, 128)     0         \n",
      "_________________________________________________________________\n",
      "conv2d_4 (Conv2D)            (None, 113, 113, 128)     147584    \n",
      "_________________________________________________________________\n",
      "max_pooling2d_2 (MaxPooling2 (None, 56, 56, 128)       0         \n",
      "_________________________________________________________________\n",
      "zero_padding2d_5 (ZeroPaddin (None, 58, 58, 128)       0         \n",
      "_________________________________________________________________\n",
      "conv2d_5 (Conv2D)            (None, 56, 56, 256)       295168    \n",
      "_________________________________________________________________\n",
      "zero_padding2d_6 (ZeroPaddin (None, 58, 58, 256)       0         \n",
      "_________________________________________________________________\n",
      "conv2d_6 (Conv2D)            (None, 56, 56, 256)       590080    \n",
      "_________________________________________________________________\n",
      "zero_padding2d_7 (ZeroPaddin (None, 58, 58, 256)       0         \n",
      "_________________________________________________________________\n",
      "conv2d_7 (Conv2D)            (None, 56, 56, 256)       590080    \n",
      "_________________________________________________________________\n",
      "max_pooling2d_3 (MaxPooling2 (None, 28, 28, 256)       0         \n",
      "_________________________________________________________________\n",
      "zero_padding2d_8 (ZeroPaddin (None, 30, 30, 256)       0         \n",
      "_________________________________________________________________\n",
      "conv2d_8 (Conv2D)            (None, 28, 28, 512)       1180160   \n",
      "_________________________________________________________________\n",
      "zero_padding2d_9 (ZeroPaddin (None, 30, 30, 512)       0         \n",
      "_________________________________________________________________\n",
      "conv2d_9 (Conv2D)            (None, 28, 28, 512)       2359808   \n",
      "_________________________________________________________________\n",
      "zero_padding2d_10 (ZeroPaddi (None, 30, 30, 512)       0         \n",
      "_________________________________________________________________\n",
      "conv2d_10 (Conv2D)           (None, 28, 28, 512)       2359808   \n",
      "_________________________________________________________________\n",
      "max_pooling2d_4 (MaxPooling2 (None, 14, 14, 512)       0         \n",
      "_________________________________________________________________\n",
      "zero_padding2d_11 (ZeroPaddi (None, 16, 16, 512)       0         \n",
      "_________________________________________________________________\n",
      "conv2d_11 (Conv2D)           (None, 14, 14, 512)       2359808   \n",
      "_________________________________________________________________\n",
      "zero_padding2d_12 (ZeroPaddi (None, 16, 16, 512)       0         \n",
      "_________________________________________________________________\n",
      "conv2d_12 (Conv2D)           (None, 14, 14, 512)       2359808   \n",
      "_________________________________________________________________\n",
      "zero_padding2d_13 (ZeroPaddi (None, 16, 16, 512)       0         \n",
      "_________________________________________________________________\n",
      "conv2d_13 (Conv2D)           (None, 14, 14, 512)       2359808   \n",
      "_________________________________________________________________\n",
      "max_pooling2d_5 (MaxPooling2 (None, 7, 7, 512)         0         \n",
      "_________________________________________________________________\n",
      "flatten_1 (Flatten)          (None, 25088)             0         \n",
      "_________________________________________________________________\n",
      "dense_1 (Dense)              (None, 4096)              102764544 \n",
      "_________________________________________________________________\n",
      "dropout_1 (Dropout)          (None, 4096)              0         \n",
      "_________________________________________________________________\n",
      "dense_2 (Dense)              (None, 4096)              16781312  \n",
      "_________________________________________________________________\n",
      "dropout_2 (Dropout)          (None, 4096)              0         \n",
      "_________________________________________________________________\n",
      "dense_3 (Dense)              (None, 2)                 8194      \n",
      "=================================================================\n",
      "Total params: 134,268,738\n",
      "Trainable params: 134,268,738\n",
      "Non-trainable params: 0\n",
      "_________________________________________________________________\n"
     ]
    }
   ],
   "source": [
    "#Viewing the summary of the model\n",
    "model.summary()"
   ]
  },
  {
   "cell_type": "code",
   "execution_count": 11,
   "metadata": {
    "_uuid": "8d031f95350bafedfe8b8e54e2392c8582735d7c",
    "colab": {
     "base_uri": "https://localhost:8080/",
     "height": 212
    },
    "colab_type": "code",
    "id": "AG6GSLXenZeT",
    "outputId": "a1c280d1-36b9-4071-bcd9-3e8c04b342b2",
    "scrolled": true
   },
   "outputs": [
    {
     "name": "stdout",
     "output_type": "stream",
     "text": [
      "Epoch 1/5\n",
      "163/163 [==============================] - 103s 634ms/step - loss: 0.3787 - accuracy: 0.8390 - val_loss: 0.8799 - val_accuracy: 0.6875\n",
      "Epoch 2/5\n",
      "163/163 [==============================] - 91s 557ms/step - loss: 0.1304 - accuracy: 0.9519 - val_loss: 0.8949 - val_accuracy: 0.6250\n",
      "Epoch 3/5\n",
      "163/163 [==============================] - 91s 557ms/step - loss: 0.1121 - accuracy: 0.9563 - val_loss: 0.2163 - val_accuracy: 0.9375\n",
      "Epoch 4/5\n",
      "163/163 [==============================] - 91s 556ms/step - loss: 0.0745 - accuracy: 0.9734 - val_loss: 0.2014 - val_accuracy: 0.9375\n",
      "Epoch 5/5\n",
      "163/163 [==============================] - 91s 557ms/step - loss: 0.0616 - accuracy: 0.9778 - val_loss: 0.0441 - val_accuracy: 1.0000\n",
      "20/20 [==============================] - 6s 318ms/step\n"
     ]
    }
   ],
   "source": [
    "optimizer = keras.optimizers.Adam(lr = 0.0001)\n",
    "early_stopping_monitor = keras.callbacks.EarlyStopping(patience = 3, monitor = \"val_accuracy\", mode=\"max\")\n",
    "model.compile(loss=\"categorical_crossentropy\", metrics=[\"accuracy\"], optimizer=optimizer)\n",
    "history = model.fit(train_batches, epochs=5, callbacks=[early_stopping_monitor], shuffle=True, validation_data=val_batches )\n",
    "prediction = model.predict(train_batches)\n",
    "score = model.evaluate(test_batches)"
   ]
  },
  {
   "cell_type": "code",
   "execution_count": 12,
   "metadata": {
    "colab": {
     "base_uri": "https://localhost:8080/",
     "height": 34
    },
    "colab_type": "code",
    "id": "iRBRjBnXliGd",
    "outputId": "aff581cf-aeed-45b6-c5c2-0e3914f31946"
   },
   "outputs": [
    {
     "name": "stdout",
     "output_type": "stream",
     "text": [
      "20/20 [==============================] - 7s 326ms/step\n"
     ]
    }
   ],
   "source": [
    "score = model.evaluate(test_batches)"
   ]
  },
  {
   "cell_type": "code",
   "execution_count": 13,
   "metadata": {
    "colab": {
     "base_uri": "https://localhost:8080/",
     "height": 34
    },
    "colab_type": "code",
    "id": "8uJL2AfXnR88",
    "outputId": "1d9bf4bb-0b83-4903-fc48-c66cd124d1cc"
   },
   "outputs": [
    {
     "data": {
      "text/plain": [
       "[0.5192623138427734, 0.7403846383094788]"
      ]
     },
     "execution_count": 13,
     "metadata": {
      "tags": []
     },
     "output_type": "execute_result"
    }
   ],
   "source": [
    "score"
   ]
  },
  {
   "cell_type": "markdown",
   "metadata": {
    "colab_type": "text",
    "id": "IDjkUc1eGAEf"
   },
   "source": [
    "Model 2"
   ]
  },
  {
   "cell_type": "code",
   "execution_count": 14,
   "metadata": {
    "_uuid": "80cc167451ae0ac3afd9e9d84f615e0481758746",
    "colab": {
     "base_uri": "https://localhost:8080/",
     "height": 870
    },
    "colab_type": "code",
    "id": "p8-PXoVLnZep",
    "outputId": "e8ae5e14-65ba-4566-ff69-28634773cb95"
   },
   "outputs": [
    {
     "name": "stdout",
     "output_type": "stream",
     "text": [
      "Epoch 1/30\n",
      "163/163 [==============================] - 72s 442ms/step - loss: 0.5836 - accuracy: 0.7642 - val_loss: 1.7462 - val_accuracy: 0.6250\n",
      "Epoch 2/30\n",
      "163/163 [==============================] - 67s 408ms/step - loss: 0.3526 - accuracy: 0.8399 - val_loss: 0.7667 - val_accuracy: 0.6875\n",
      "Epoch 3/30\n",
      "163/163 [==============================] - 67s 411ms/step - loss: 0.3202 - accuracy: 0.8668 - val_loss: 0.6035 - val_accuracy: 0.6250\n",
      "Epoch 4/30\n",
      "163/163 [==============================] - 67s 410ms/step - loss: 0.3010 - accuracy: 0.8857 - val_loss: 0.4174 - val_accuracy: 0.8125\n",
      "Epoch 5/30\n",
      "163/163 [==============================] - 67s 411ms/step - loss: 0.2412 - accuracy: 0.9114 - val_loss: 0.4906 - val_accuracy: 0.8125\n",
      "Epoch 6/30\n",
      "163/163 [==============================] - 67s 411ms/step - loss: 0.1699 - accuracy: 0.9385 - val_loss: 0.3702 - val_accuracy: 0.7500\n",
      "Epoch 7/30\n",
      "163/163 [==============================] - 67s 410ms/step - loss: 0.1457 - accuracy: 0.9498 - val_loss: 1.0479 - val_accuracy: 0.6875\n",
      "Epoch 8/30\n",
      "163/163 [==============================] - 67s 410ms/step - loss: 0.1272 - accuracy: 0.9567 - val_loss: 0.1839 - val_accuracy: 0.9375\n",
      "Epoch 9/30\n",
      "163/163 [==============================] - 67s 413ms/step - loss: 0.0985 - accuracy: 0.9640 - val_loss: 0.1714 - val_accuracy: 0.8750\n",
      "Epoch 10/30\n",
      "163/163 [==============================] - 70s 431ms/step - loss: 0.0932 - accuracy: 0.9701 - val_loss: 0.4110 - val_accuracy: 0.8125\n",
      "Epoch 11/30\n",
      "163/163 [==============================] - 71s 437ms/step - loss: 0.0631 - accuracy: 0.9789 - val_loss: 0.1713 - val_accuracy: 0.8750\n",
      "Epoch 12/30\n",
      "163/163 [==============================] - 70s 431ms/step - loss: 0.0518 - accuracy: 0.9831 - val_loss: 0.2936 - val_accuracy: 0.8125\n",
      "Epoch 13/30\n",
      "163/163 [==============================] - 69s 421ms/step - loss: 0.0502 - accuracy: 0.9831 - val_loss: 0.1670 - val_accuracy: 0.9375\n",
      "Epoch 14/30\n",
      "163/163 [==============================] - 69s 423ms/step - loss: 0.0551 - accuracy: 0.9803 - val_loss: 0.3209 - val_accuracy: 0.7500\n",
      "Epoch 15/30\n",
      "163/163 [==============================] - 71s 438ms/step - loss: 0.0634 - accuracy: 0.9803 - val_loss: 0.1292 - val_accuracy: 0.9375\n",
      "Epoch 16/30\n",
      "163/163 [==============================] - 70s 432ms/step - loss: 0.0598 - accuracy: 0.9835 - val_loss: 0.3127 - val_accuracy: 0.8750\n",
      "Epoch 17/30\n",
      "163/163 [==============================] - 70s 430ms/step - loss: 0.0280 - accuracy: 0.9904 - val_loss: 1.8348 - val_accuracy: 0.6875\n",
      "Epoch 18/30\n",
      "163/163 [==============================] - 70s 427ms/step - loss: 0.0314 - accuracy: 0.9898 - val_loss: 0.6464 - val_accuracy: 0.8750\n",
      "Epoch 19/30\n",
      "163/163 [==============================] - 70s 429ms/step - loss: 0.0277 - accuracy: 0.9923 - val_loss: 0.1265 - val_accuracy: 0.9375\n",
      "Epoch 20/30\n",
      "163/163 [==============================] - 69s 425ms/step - loss: 0.0157 - accuracy: 0.9948 - val_loss: 0.2297 - val_accuracy: 0.8125\n",
      "Epoch 21/30\n",
      "163/163 [==============================] - 69s 421ms/step - loss: 0.0265 - accuracy: 0.9906 - val_loss: 0.3046 - val_accuracy: 0.8125\n",
      "Epoch 22/30\n",
      "163/163 [==============================] - 71s 434ms/step - loss: 0.0238 - accuracy: 0.9914 - val_loss: 0.7104 - val_accuracy: 0.7500\n",
      "Epoch 23/30\n",
      "163/163 [==============================] - 70s 428ms/step - loss: 0.0514 - accuracy: 0.9843 - val_loss: 0.4784 - val_accuracy: 0.8125\n",
      "Epoch 24/30\n",
      "163/163 [==============================] - 69s 422ms/step - loss: 0.0188 - accuracy: 0.9941 - val_loss: 0.3613 - val_accuracy: 0.8750\n"
     ]
    }
   ],
   "source": [
    "from functools import partial\n",
    "\n",
    "DefaultConv2D = partial(keras.layers.Conv2D,\n",
    "                        kernel_size=3, activation='relu', padding=\"SAME\")\n",
    "\n",
    "model = keras.models.Sequential([\n",
    "    DefaultConv2D(filters = 64, kernel_size = 7, input_shape=train_batches.image_shape),\n",
    "    keras.layers.MaxPooling2D(pool_size=2),\n",
    "    keras.layers.Lambda(tf.nn.local_response_normalization),\n",
    "    DefaultConv2D(filters=128),\n",
    "    DefaultConv2D(filters=128),\n",
    "    keras.layers.MaxPooling2D(pool_size=2),\n",
    "    keras.layers.Lambda(tf.nn.local_response_normalization),\n",
    "    DefaultConv2D(filters=256),\n",
    "    DefaultConv2D(filters=256),\n",
    "    keras.layers.MaxPooling2D(pool_size=2),\n",
    "    keras.layers.Flatten(),\n",
    "    keras.layers.Dense(units=128, activation='relu'),\n",
    "    keras.layers.Dropout(0.5),\n",
    "    keras.layers.Dense(units=64, activation='relu'),\n",
    "    keras.layers.Dropout(0.5),\n",
    "    keras.layers.Dense(units=32, activation='relu'),\n",
    "    keras.layers.Dropout(0.5),\n",
    "    keras.layers.Dense(units=2, activation='softmax')\n",
    "])\n",
    "\n",
    "model.compile(optimizer = 'adam', loss = 'categorical_crossentropy', metrics=['accuracy'])\n",
    "early_stopping_monitor = keras.callbacks.EarlyStopping(patience = 5)\n",
    "history = model.fit(train_batches, callbacks=[early_stopping_monitor], validation_data = val_batches,epochs= 30)"
   ]
  },
  {
   "cell_type": "code",
   "execution_count": 15,
   "metadata": {
    "colab": {
     "base_uri": "https://localhost:8080/",
     "height": 34
    },
    "colab_type": "code",
    "id": "Dy7_Z1e5GGwa",
    "outputId": "279ec039-6684-4cef-b8f3-418467a3ddb3"
   },
   "outputs": [
    {
     "name": "stdout",
     "output_type": "stream",
     "text": [
      "20/20 [==============================] - 6s 310ms/step\n"
     ]
    }
   ],
   "source": [
    "score = model.evaluate(test_batches)"
   ]
  },
  {
   "cell_type": "code",
   "execution_count": 16,
   "metadata": {
    "colab": {
     "base_uri": "https://localhost:8080/",
     "height": 34
    },
    "colab_type": "code",
    "id": "3xfW4WhnlRMG",
    "outputId": "074578a5-00cc-47e5-a442-bdcfd7b48f44"
   },
   "outputs": [
    {
     "data": {
      "text/plain": [
       "[3.0576765537261963, 0.745192289352417]"
      ]
     },
     "execution_count": 16,
     "metadata": {
      "tags": []
     },
     "output_type": "execute_result"
    }
   ],
   "source": [
    "score"
   ]
  },
  {
   "cell_type": "markdown",
   "metadata": {
    "colab_type": "text",
    "id": "4rN3-zlcNfQw"
   },
   "source": [
    "Model 3"
   ]
  },
  {
   "cell_type": "markdown",
   "metadata": {
    "colab_type": "text",
    "id": "OUcfOJxoNhHs"
   },
   "source": [
    "A Inception model for testing"
   ]
  },
  {
   "cell_type": "code",
   "execution_count": 23,
   "metadata": {
    "colab": {},
    "colab_type": "code",
    "id": "zvjuNvv4lbOU"
   },
   "outputs": [],
   "source": [
    "input_ = keras.layers.Input(shape = train_batches.image_shape)\n",
    "\n",
    "path1_1 = keras.layers.Conv2D(32, kernel_size = (1,1), strides=1, padding = 'SAME')(input_)\n",
    "path2_1 = keras.layers.Conv2D(32, kernel_size = (1,1), strides=1, padding = 'SAME')(input_)\n",
    "path3_1 = keras.layers.MaxPooling2D((3,3), strides = 1, padding='SAME')(input_)\n",
    "\n",
    "path1_2 = keras.layers.Conv2D(32, kernel_size = (3,3), strides=1, padding = 'SAME')(path1_1)\n",
    "path2_2 = keras.layers.Conv2D(32, kernel_size = (5,5), strides=1, padding = 'SAME')(path2_1)\n",
    "path3_2 = keras.layers.Conv2D(32, kernel_size = (5,6), strides=1, padding = 'SAME')(path3_1)\n",
    "\n",
    "path4 = keras.layers.Conv2D(32, kernel_size = 1, strides=1, padding = 'SAME')(input_)\n",
    "\n",
    "concat = keras.layers.concatenate([path1_2, path2_2, path2_2, path4], axis = 3)\n",
    "flat = keras.layers.Flatten()(concat)\n",
    "output = keras.layers.Dense(2, activation='softmax')(flat)\n",
    "\n",
    "model = keras.models.Model(inputs = [input_], outputs = [output])"
   ]
  },
  {
   "cell_type": "code",
   "execution_count": 24,
   "metadata": {
    "colab": {
     "base_uri": "https://localhost:8080/",
     "height": 532
    },
    "colab_type": "code",
    "id": "i2N_JYWvRaMS",
    "outputId": "766d3547-9275-4a9a-fbbf-1eeb5bb72d12"
   },
   "outputs": [
    {
     "name": "stdout",
     "output_type": "stream",
     "text": [
      "Model: \"model_2\"\n",
      "__________________________________________________________________________________________________\n",
      "Layer (type)                    Output Shape         Param #     Connected to                     \n",
      "==================================================================================================\n",
      "input_2 (InputLayer)            (None, 226, 226, 3)  0                                            \n",
      "__________________________________________________________________________________________________\n",
      "conv2d_25 (Conv2D)              (None, 226, 226, 32) 128         input_2[0][0]                    \n",
      "__________________________________________________________________________________________________\n",
      "conv2d_26 (Conv2D)              (None, 226, 226, 32) 128         input_2[0][0]                    \n",
      "__________________________________________________________________________________________________\n",
      "conv2d_27 (Conv2D)              (None, 226, 226, 32) 9248        conv2d_25[0][0]                  \n",
      "__________________________________________________________________________________________________\n",
      "conv2d_28 (Conv2D)              (None, 226, 226, 32) 25632       conv2d_26[0][0]                  \n",
      "__________________________________________________________________________________________________\n",
      "conv2d_30 (Conv2D)              (None, 226, 226, 32) 128         input_2[0][0]                    \n",
      "__________________________________________________________________________________________________\n",
      "concatenate_2 (Concatenate)     (None, 226, 226, 128 0           conv2d_27[0][0]                  \n",
      "                                                                 conv2d_28[0][0]                  \n",
      "                                                                 conv2d_28[0][0]                  \n",
      "                                                                 conv2d_30[0][0]                  \n",
      "__________________________________________________________________________________________________\n",
      "flatten_4 (Flatten)             (None, 6537728)      0           concatenate_2[0][0]              \n",
      "__________________________________________________________________________________________________\n",
      "dense_11 (Dense)                (None, 2)            13075458    flatten_4[0][0]                  \n",
      "==================================================================================================\n",
      "Total params: 13,110,722\n",
      "Trainable params: 13,110,722\n",
      "Non-trainable params: 0\n",
      "__________________________________________________________________________________________________\n"
     ]
    }
   ],
   "source": [
    "model.summary()"
   ]
  },
  {
   "cell_type": "code",
   "execution_count": 31,
   "metadata": {
    "colab": {
     "base_uri": "https://localhost:8080/",
     "height": 392
    },
    "colab_type": "code",
    "id": "BFEaiz6sReHz",
    "outputId": "9844e885-7b7f-474e-f495-a85f2092d599"
   },
   "outputs": [
    {
     "name": "stdout",
     "output_type": "stream",
     "text": [
      "Epoch 1/10\n",
      "163/163 [==============================] - 59s 360ms/step - loss: 3438.7762 - accuracy: 0.9287 - val_loss: 8553.5693 - val_accuracy: 0.6875\n",
      "Epoch 2/10\n",
      "163/163 [==============================] - 58s 359ms/step - loss: 456.2916 - accuracy: 0.9718 - val_loss: 1082.7386 - val_accuracy: 0.9375\n",
      "Epoch 3/10\n",
      "163/163 [==============================] - 58s 357ms/step - loss: 192.1298 - accuracy: 0.9831 - val_loss: 277.8126 - val_accuracy: 0.9375\n",
      "Epoch 4/10\n",
      "163/163 [==============================] - 58s 354ms/step - loss: 184.7515 - accuracy: 0.9827 - val_loss: 5269.3057 - val_accuracy: 0.7500\n",
      "Epoch 5/10\n",
      "163/163 [==============================] - 58s 353ms/step - loss: 321.6215 - accuracy: 0.9799 - val_loss: 3364.2188 - val_accuracy: 0.8125\n",
      "Epoch 6/10\n",
      "163/163 [==============================] - 58s 353ms/step - loss: 239.2707 - accuracy: 0.9831 - val_loss: 3596.4302 - val_accuracy: 0.7500\n",
      "Epoch 7/10\n",
      "163/163 [==============================] - 58s 353ms/step - loss: 46.5851 - accuracy: 0.9931 - val_loss: 1794.9185 - val_accuracy: 0.8750\n",
      "Epoch 8/10\n",
      "163/163 [==============================] - 57s 349ms/step - loss: 129.4439 - accuracy: 0.9889 - val_loss: 8635.3496 - val_accuracy: 0.7500\n",
      "Epoch 9/10\n",
      "163/163 [==============================] - 57s 349ms/step - loss: 90.4073 - accuracy: 0.9908 - val_loss: 5611.9668 - val_accuracy: 0.7500\n",
      "Epoch 10/10\n",
      "163/163 [==============================] - 57s 351ms/step - loss: 43.4637 - accuracy: 0.9944 - val_loss: 3125.7966 - val_accuracy: 0.8125\n"
     ]
    }
   ],
   "source": [
    "model.compile(optimizer = 'adam', loss = 'categorical_crossentropy', metrics=['accuracy'])\n",
    "early_stopping_monitor = keras.callbacks.EarlyStopping(patience = 1)\n",
    "history = model.fit(train_batches, callbacks=[early_stopping_monitor],validation_data = val_batches ,epochs= 10)"
   ]
  },
  {
   "cell_type": "code",
   "execution_count": 32,
   "metadata": {
    "colab": {
     "base_uri": "https://localhost:8080/",
     "height": 34
    },
    "colab_type": "code",
    "id": "zFs9ois5SQr9",
    "outputId": "de771ad8-9039-4ce4-f883-dc4b98e0730a"
   },
   "outputs": [
    {
     "data": {
      "text/plain": [
       "(226, 226, 3)"
      ]
     },
     "execution_count": 32,
     "metadata": {
      "tags": []
     },
     "output_type": "execute_result"
    }
   ],
   "source": [
    "train_batches.image_shape"
   ]
  },
  {
   "cell_type": "code",
   "execution_count": 33,
   "metadata": {
    "colab": {
     "base_uri": "https://localhost:8080/",
     "height": 34
    },
    "colab_type": "code",
    "id": "9M15z1ljX3D-",
    "outputId": "1b0d427d-07ee-40ef-e055-0ff012805ba5"
   },
   "outputs": [
    {
     "name": "stdout",
     "output_type": "stream",
     "text": [
      "20/20 [==============================] - 6s 280ms/step\n"
     ]
    }
   ],
   "source": [
    "score = model.evaluate(test_batches)"
   ]
  },
  {
   "cell_type": "code",
   "execution_count": 34,
   "metadata": {
    "colab": {
     "base_uri": "https://localhost:8080/",
     "height": 34
    },
    "colab_type": "code",
    "id": "oGd10wDsgqeJ",
    "outputId": "39b4509d-67c7-4f03-91ca-57c9be84260e"
   },
   "outputs": [
    {
     "data": {
      "text/plain": [
       "[17760.65625, 0.7291666865348816]"
      ]
     },
     "execution_count": 34,
     "metadata": {
      "tags": []
     },
     "output_type": "execute_result"
    }
   ],
   "source": [
    "score"
   ]
  },
  {
   "cell_type": "code",
   "execution_count": 28,
   "metadata": {
    "colab": {},
    "colab_type": "code",
    "id": "29OGRwHJ5Bd1"
   },
   "outputs": [],
   "source": []
  }
 ],
 "metadata": {
  "accelerator": "GPU",
  "colab": {
   "collapsed_sections": [],
   "name": "Pneumonia_Detection",
   "provenance": [],
   "toc_visible": true
  },
  "kernelspec": {
   "display_name": "Python 3",
   "language": "python",
   "name": "python3"
  },
  "language_info": {
   "codemirror_mode": {
    "name": "ipython",
    "version": 3
   },
   "file_extension": ".py",
   "mimetype": "text/x-python",
   "name": "python",
   "nbconvert_exporter": "python",
   "pygments_lexer": "ipython3",
   "version": "3.8.2"
  }
 },
 "nbformat": 4,
 "nbformat_minor": 4
}
