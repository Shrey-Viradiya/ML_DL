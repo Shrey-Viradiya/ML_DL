{
  "nbformat": 4,
  "nbformat_minor": 0,
  "metadata": {
    "kernelspec": {
      "name": "python3",
      "display_name": "Python 3"
    },
    "colab": {
      "name": "Pneumonia_Classification.ipynb",
      "provenance": [],
      "toc_visible": true,
      "include_colab_link": true
    },
    "accelerator": "GPU"
  },
  "cells": [
    {
      "cell_type": "markdown",
      "metadata": {
        "id": "view-in-github",
        "colab_type": "text"
      },
      "source": [
        "<a href=\"https://colab.research.google.com/github/Shrey-Viradiya/ML_DL/blob/master/Pneumonia_Classification.ipynb\" target=\"_parent\"><img src=\"https://colab.research.google.com/assets/colab-badge.svg\" alt=\"Open In Colab\"/></a>"
      ]
    },
    {
      "cell_type": "markdown",
      "metadata": {
        "id": "k8TcXTB4UaRj",
        "colab_type": "text"
      },
      "source": [
        "# Pneumonia Classification Using Keras"
      ]
    },
    {
      "cell_type": "code",
      "metadata": {
        "id": "LG_kRrNfWHSr",
        "colab_type": "code",
        "colab": {
          "base_uri": "https://localhost:8080/",
          "height": 350
        },
        "outputId": "48a76285-93ba-40d0-87f4-7a5a821dd8d6"
      },
      "source": [
        "!nvidia-smi"
      ],
      "execution_count": 1,
      "outputs": [
        {
          "output_type": "stream",
          "text": [
            "Fri Jun 19 08:26:28 2020       \n",
            "+-----------------------------------------------------------------------------+\n",
            "| NVIDIA-SMI 450.36.06    Driver Version: 418.67       CUDA Version: 10.1     |\n",
            "|-------------------------------+----------------------+----------------------+\n",
            "| GPU  Name        Persistence-M| Bus-Id        Disp.A | Volatile Uncorr. ECC |\n",
            "| Fan  Temp  Perf  Pwr:Usage/Cap|         Memory-Usage | GPU-Util  Compute M. |\n",
            "|                               |                      |               MIG M. |\n",
            "|===============================+======================+======================|\n",
            "|   0  Tesla T4            Off  | 00000000:00:04.0 Off |                    0 |\n",
            "| N/A   69C    P8    12W /  70W |      0MiB / 15079MiB |      0%      Default |\n",
            "|                               |                      |                 ERR! |\n",
            "+-------------------------------+----------------------+----------------------+\n",
            "                                                                               \n",
            "+-----------------------------------------------------------------------------+\n",
            "| Processes:                                                                  |\n",
            "|  GPU   GI   CI        PID   Type   Process name                  GPU Memory |\n",
            "|        ID   ID                                                   Usage      |\n",
            "|=============================================================================|\n",
            "|  No running processes found                                                 |\n",
            "+-----------------------------------------------------------------------------+\n"
          ],
          "name": "stdout"
        }
      ]
    },
    {
      "cell_type": "markdown",
      "metadata": {
        "id": "nLxQWTL2WN5W",
        "colab_type": "text"
      },
      "source": [
        "## Upload your kaggle token (i.e. kaggle.json) and then run it."
      ]
    },
    {
      "cell_type": "code",
      "metadata": {
        "id": "62SgkzmkVxFC",
        "colab_type": "code",
        "colab": {}
      },
      "source": [
        "!mkdir -p ~/.kaggle\n",
        "!cp kaggle.json ~/.kaggle/"
      ],
      "execution_count": 2,
      "outputs": []
    },
    {
      "cell_type": "code",
      "metadata": {
        "id": "COgV7nGdUpi2",
        "colab_type": "code",
        "colab": {
          "base_uri": "https://localhost:8080/",
          "height": 70
        },
        "outputId": "1cf16dfc-5c41-44db-fb3f-b69ecbb1cd17"
      },
      "source": [
        "!kaggle datasets download -d paultimothymooney/chest-xray-pneumonia"
      ],
      "execution_count": 3,
      "outputs": [
        {
          "output_type": "stream",
          "text": [
            "Warning: Your Kaggle API key is readable by other users on this system! To fix this, you can run 'chmod 600 /root/.kaggle/kaggle.json'\n",
            "chest-xray-pneumonia.zip: Skipping, found more recently modified local copy (use --force to force download)\n"
          ],
          "name": "stdout"
        }
      ]
    },
    {
      "cell_type": "code",
      "metadata": {
        "id": "HB3N3HmpVJtp",
        "colab_type": "code",
        "colab": {
          "base_uri": "https://localhost:8080/",
          "height": 33
        },
        "outputId": "919e6d52-a3e0-420b-e10b-97e3eb3aa00a"
      },
      "source": [
        "![!-d './chest_xray/'] && unzip chest-xray-pneumonia.zip"
      ],
      "execution_count": 34,
      "outputs": [
        {
          "output_type": "stream",
          "text": [
            "/bin/bash: [!-d: command not found\n"
          ],
          "name": "stdout"
        }
      ]
    },
    {
      "cell_type": "code",
      "metadata": {
        "id": "QiXWWrsJVbPl",
        "colab_type": "code",
        "colab": {}
      },
      "source": [
        "!rm -r chest_xray/chest_xray/ -f\n",
        "!rm -r chest_xray/__MACOSX/ -f"
      ],
      "execution_count": 5,
      "outputs": []
    },
    {
      "cell_type": "markdown",
      "metadata": {
        "id": "_Ggk2EI1UkIL",
        "colab_type": "text"
      },
      "source": [
        "### Dataset available at: https://www.kaggle.com/paultimothymooney/chest-xray-pneumonia"
      ]
    },
    {
      "cell_type": "markdown",
      "metadata": {
        "id": "fW-jFj4ZUfVZ",
        "colab_type": "text"
      },
      "source": [
        "Importing Libraries"
      ]
    },
    {
      "cell_type": "code",
      "metadata": {
        "id": "xEXYTyNwUaRl",
        "colab_type": "code",
        "colab": {}
      },
      "source": [
        "import numpy as np\n",
        "import matplotlib.pyplot as plt\n",
        "import tensorflow as tf\n",
        "import tensorflow.keras as keras"
      ],
      "execution_count": 6,
      "outputs": []
    },
    {
      "cell_type": "code",
      "metadata": {
        "id": "dzT5kTKPFyh6",
        "colab_type": "code",
        "colab": {}
      },
      "source": [
        "tf.keras.backend.set_floatx(\n",
        "    'float16'\n",
        ")"
      ],
      "execution_count": 7,
      "outputs": []
    },
    {
      "cell_type": "code",
      "metadata": {
        "id": "EaXKPiwJUaRp",
        "colab_type": "code",
        "colab": {}
      },
      "source": [
        "train_directory = 'chest_xray/train/'\n",
        "test_directory = 'chest_xray/test/'\n",
        "valid_directory = 'chest_xray/val/'"
      ],
      "execution_count": 8,
      "outputs": []
    },
    {
      "cell_type": "markdown",
      "metadata": {
        "id": "SwGaWk3CUaRt",
        "colab_type": "text"
      },
      "source": [
        "## Exploring data"
      ]
    },
    {
      "cell_type": "code",
      "metadata": {
        "id": "wdelrJKrUaRu",
        "colab_type": "code",
        "colab": {
          "base_uri": "https://localhost:8080/",
          "height": 287
        },
        "outputId": "cc81e4a1-d8fe-4e42-ecdc-465d5a4cf2b1"
      },
      "source": [
        "import os\n",
        "from PIL import Image\n",
        "\n",
        "print(\"Let's plot some random images\")\n",
        "print(\"-----------------------------\")\n",
        "\n",
        "images = os.listdir(train_directory+'NORMAL')\n",
        "name1 = images[np.random.randint(0,len(images))]\n",
        "path1 = train_directory + \"NORMAL/\" + name1\n",
        "\n",
        "images = os.listdir(train_directory+'PNEUMONIA')\n",
        "name2 = images[np.random.randint(0,len(images))]\n",
        "path2 = train_directory + \"PNEUMONIA/\" + name2\n",
        "\n",
        "plt.figure(figsize= (10,6))\n",
        "\n",
        "plt.subplot(121)\n",
        "plt.imshow(Image.open(path1), cmap='gray')\n",
        "plt.title(name1)\n",
        "\n",
        "plt.subplot(122)\n",
        "plt.imshow(Image.open(path2), cmap='gray')\n",
        "plt.title(name2)"
      ],
      "execution_count": 9,
      "outputs": [
        {
          "output_type": "stream",
          "text": [
            "Let's plot some random images\n",
            "-----------------------------\n"
          ],
          "name": "stdout"
        },
        {
          "output_type": "execute_result",
          "data": {
            "text/plain": [
              "Text(0.5, 1.0, 'person935_virus_1597.jpeg')"
            ]
          },
          "metadata": {
            "tags": []
          },
          "execution_count": 9
        },
        {
          "output_type": "display_data",
          "data": {
            "image/png": "[encoded data removed]",
            "text/plain": [
              "<Figure size 720x432 with 2 Axes>"
            ]
          },
          "metadata": {
            "tags": [],
            "needs_background": "light"
          }
        }
      ]
    },
    {
      "cell_type": "markdown",
      "metadata": {
        "id": "MD90D1OmUaRz",
        "colab_type": "text"
      },
      "source": [
        "## Creating ImageDataGenerators"
      ]
    },
    {
      "cell_type": "code",
      "metadata": {
        "id": "grNqU66x3m_G",
        "colab_type": "code",
        "colab": {}
      },
      "source": [
        "target_size = (226,226)"
      ],
      "execution_count": 10,
      "outputs": []
    },
    {
      "cell_type": "code",
      "metadata": {
        "id": "yvuQqCktUaR0",
        "colab_type": "code",
        "colab": {
          "base_uri": "https://localhost:8080/",
          "height": 33
        },
        "outputId": "43f47d24-a68d-4094-f6eb-95e348b800f6"
      },
      "source": [
        "train_datagen = keras.preprocessing.image.ImageDataGenerator(rescale=1./255, shear_range = 0.2, zoom_range = 0.2, horizontal_flip=True)\n",
        "train_generator = train_datagen.flow_from_directory(\n",
        "    train_directory,\n",
        "    target_size=target_size,\n",
        "    batch_size=128,\n",
        "    class_mode='categorical',\n",
        ")"
      ],
      "execution_count": 11,
      "outputs": [
        {
          "output_type": "stream",
          "text": [
            "Found 5216 images belonging to 2 classes.\n"
          ],
          "name": "stdout"
        }
      ]
    },
    {
      "cell_type": "code",
      "metadata": {
        "id": "PTKKzG-zUaR5",
        "colab_type": "code",
        "colab": {
          "base_uri": "https://localhost:8080/",
          "height": 33
        },
        "outputId": "42db5c4d-5f88-4937-cfd0-9d1c2ed213bc"
      },
      "source": [
        "test_datagen = keras.preprocessing.image.ImageDataGenerator(rescale=1./255, shear_range = 0.2, zoom_range = 0.2, horizontal_flip=True)\n",
        "test_generator = test_datagen.flow_from_directory(\n",
        "    test_directory,\n",
        "    target_size=target_size,\n",
        "    batch_size=128,\n",
        "    class_mode='categorical'\n",
        ")"
      ],
      "execution_count": 12,
      "outputs": [
        {
          "output_type": "stream",
          "text": [
            "Found 624 images belonging to 2 classes.\n"
          ],
          "name": "stdout"
        }
      ]
    },
    {
      "cell_type": "code",
      "metadata": {
        "id": "s-Is9ibAUaR9",
        "colab_type": "code",
        "colab": {
          "base_uri": "https://localhost:8080/",
          "height": 33
        },
        "outputId": "b3a9148b-d881-4ec5-818d-2fd4b2c9f3a3"
      },
      "source": [
        "valid_datagen = keras.preprocessing.image.ImageDataGenerator(rescale=1./255, shear_range = 0.2, zoom_range = 0.2, horizontal_flip=True)\n",
        "valid_generator = valid_datagen.flow_from_directory(\n",
        "    valid_directory,\n",
        "    target_size=target_size,\n",
        "    batch_size=128,\n",
        "    class_mode='categorical'\n",
        ")"
      ],
      "execution_count": 13,
      "outputs": [
        {
          "output_type": "stream",
          "text": [
            "Found 16 images belonging to 2 classes.\n"
          ],
          "name": "stdout"
        }
      ]
    },
    {
      "cell_type": "code",
      "metadata": {
        "id": "i59bNKCg5ZJ6",
        "colab_type": "code",
        "colab": {
          "base_uri": "https://localhost:8080/",
          "height": 33
        },
        "outputId": "d30d3b1f-d720-48cb-d880-2f107f4ae320"
      },
      "source": [
        "train_generator.image_shape"
      ],
      "execution_count": 14,
      "outputs": [
        {
          "output_type": "execute_result",
          "data": {
            "text/plain": [
              "(226, 226, 3)"
            ]
          },
          "metadata": {
            "tags": []
          },
          "execution_count": 14
        }
      ]
    },
    {
      "cell_type": "code",
      "metadata": {
        "id": "DoH3BikDgUvz",
        "colab_type": "code",
        "colab": {
          "base_uri": "https://localhost:8080/",
          "height": 33
        },
        "outputId": "6daf803e-49ab-4e4e-8a57-ef72507ac825"
      },
      "source": [
        "train_generator.class_indices"
      ],
      "execution_count": 15,
      "outputs": [
        {
          "output_type": "execute_result",
          "data": {
            "text/plain": [
              "{'NORMAL': 0, 'PNEUMONIA': 1}"
            ]
          },
          "metadata": {
            "tags": []
          },
          "execution_count": 15
        }
      ]
    },
    {
      "cell_type": "markdown",
      "metadata": {
        "id": "e_TRv8VoUaSB",
        "colab_type": "text"
      },
      "source": [
        "### Creating Model"
      ]
    },
    {
      "cell_type": "markdown",
      "metadata": {
        "id": "QzUNKuI734Un",
        "colab_type": "text"
      },
      "source": [
        "Test Model 1"
      ]
    },
    {
      "cell_type": "code",
      "metadata": {
        "id": "siMLP1lFUaSC",
        "colab_type": "code",
        "colab": {}
      },
      "source": [
        "from functools import partial\n",
        "\n",
        "DefaultConv2D = partial(keras.layers.Conv2D,\n",
        "                        kernel_size=3, activation='relu', padding=\"SAME\")\n",
        "\n",
        "model = keras.models.Sequential([\n",
        "    DefaultConv2D(filters = 64, kernel_size = 7, input_shape=train_generator.image_shape),\n",
        "    keras.layers.MaxPooling2D(pool_size=2),\n",
        "    DefaultConv2D(filters=128),\n",
        "    DefaultConv2D(filters=128),\n",
        "    keras.layers.MaxPooling2D(pool_size=2),\n",
        "    DefaultConv2D(filters=256),\n",
        "    DefaultConv2D(filters=256),\n",
        "    keras.layers.MaxPooling2D(pool_size=2),\n",
        "    keras.layers.Flatten(),\n",
        "    keras.layers.Dense(units=128, activation='relu'),\n",
        "    keras.layers.Dropout(0.5),\n",
        "    keras.layers.Dense(units=64, activation='relu'),\n",
        "    keras.layers.Dropout(0.5),\n",
        "    keras.layers.Dense(units=32, activation='relu'),\n",
        "    keras.layers.Dropout(0.5),\n",
        "    keras.layers.Dense(units=2, activation='softmax')\n",
        "])"
      ],
      "execution_count": 16,
      "outputs": []
    },
    {
      "cell_type": "code",
      "metadata": {
        "id": "9g1YrVqYUaSH",
        "colab_type": "code",
        "colab": {
          "base_uri": "https://localhost:8080/",
          "height": 683
        },
        "outputId": "8e0ed379-fae4-4685-b99f-0e8fd609d5c8"
      },
      "source": [
        "model.summary()"
      ],
      "execution_count": 17,
      "outputs": [
        {
          "output_type": "stream",
          "text": [
            "Model: \"sequential\"\n",
            "_________________________________________________________________\n",
            "Layer (type)                 Output Shape              Param #   \n",
            "=================================================================\n",
            "conv2d (Conv2D)              (None, 226, 226, 64)      9472      \n",
            "_________________________________________________________________\n",
            "max_pooling2d (MaxPooling2D) (None, 113, 113, 64)      0         \n",
            "_________________________________________________________________\n",
            "conv2d_1 (Conv2D)            (None, 113, 113, 128)     73856     \n",
            "_________________________________________________________________\n",
            "conv2d_2 (Conv2D)            (None, 113, 113, 128)     147584    \n",
            "_________________________________________________________________\n",
            "max_pooling2d_1 (MaxPooling2 (None, 56, 56, 128)       0         \n",
            "_________________________________________________________________\n",
            "conv2d_3 (Conv2D)            (None, 56, 56, 256)       295168    \n",
            "_________________________________________________________________\n",
            "conv2d_4 (Conv2D)            (None, 56, 56, 256)       590080    \n",
            "_________________________________________________________________\n",
            "max_pooling2d_2 (MaxPooling2 (None, 28, 28, 256)       0         \n",
            "_________________________________________________________________\n",
            "flatten (Flatten)            (None, 200704)            0         \n",
            "_________________________________________________________________\n",
            "dense (Dense)                (None, 128)               25690240  \n",
            "_________________________________________________________________\n",
            "dropout (Dropout)            (None, 128)               0         \n",
            "_________________________________________________________________\n",
            "dense_1 (Dense)              (None, 64)                8256      \n",
            "_________________________________________________________________\n",
            "dropout_1 (Dropout)          (None, 64)                0         \n",
            "_________________________________________________________________\n",
            "dense_2 (Dense)              (None, 32)                2080      \n",
            "_________________________________________________________________\n",
            "dropout_2 (Dropout)          (None, 32)                0         \n",
            "_________________________________________________________________\n",
            "dense_3 (Dense)              (None, 2)                 66        \n",
            "=================================================================\n",
            "Total params: 26,816,802\n",
            "Trainable params: 26,816,802\n",
            "Non-trainable params: 0\n",
            "_________________________________________________________________\n"
          ],
          "name": "stdout"
        }
      ]
    },
    {
      "cell_type": "code",
      "metadata": {
        "id": "dfa7_6H5UaSP",
        "colab_type": "code",
        "colab": {
          "base_uri": "https://localhost:8080/",
          "height": 150
        },
        "outputId": "69903de8-6e7c-47eb-94b2-1b0204e954c8"
      },
      "source": [
        "model.compile(optimizer = 'adam', loss = 'categorical_crossentropy', metrics=['accuracy'])\n",
        "early_stopping_monitor = keras.callbacks.EarlyStopping(patience = 3)\n",
        "history = model.fit(train_generator, validation_data = valid_generator, callbacks = [early_stopping_monitor],epochs= 15)"
      ],
      "execution_count": 19,
      "outputs": [
        {
          "output_type": "stream",
          "text": [
            "Epoch 1/15\n",
            "41/41 [==============================] - 113s 3s/step - loss: 0.6685 - accuracy: 0.7378 - val_loss: 0.7324 - val_accuracy: 0.5000\n",
            "Epoch 2/15\n",
            "41/41 [==============================] - 113s 3s/step - loss: 0.5884 - accuracy: 0.7437 - val_loss: 0.7861 - val_accuracy: 0.5000\n",
            "Epoch 3/15\n",
            "41/41 [==============================] - 113s 3s/step - loss: 0.5811 - accuracy: 0.7432 - val_loss: 0.8066 - val_accuracy: 0.5000\n",
            "Epoch 4/15\n",
            "41/41 [==============================] - 113s 3s/step - loss: 0.5796 - accuracy: 0.7422 - val_loss: 0.8096 - val_accuracy: 0.5000\n"
          ],
          "name": "stdout"
        }
      ]
    },
    {
      "cell_type": "markdown",
      "metadata": {
        "id": "CZYMvYVg36b9",
        "colab_type": "text"
      },
      "source": [
        "Test Model 2"
      ]
    },
    {
      "cell_type": "code",
      "metadata": {
        "id": "QHEzVC33UaST",
        "colab_type": "code",
        "colab": {}
      },
      "source": [
        "model = keras.models.Sequential([\n",
        "                                 keras.layers.Conv2D(64, kernel_size=3, activation = 'relu', padding='SAME', input_shape = train_generator.image_shape),\n",
        "                                 keras.layers.MaxPooling2D(2),\n",
        "                                 keras.layers.Conv2D(64, kernel_size=3, activation = 'relu', padding='SAME'),\n",
        "                                 keras.layers.MaxPooling2D(2),\n",
        "                                 keras.layers.Flatten(),\n",
        "                                 keras.layers.Dense(128, activation='relu'),\n",
        "                                 keras.layers.Dropout(0.3),\n",
        "                                 keras.layers.Dense(64, activation='relu'),\n",
        "                                 keras.layers.Dropout(0.3),\n",
        "                                 keras.layers.Dense(2, activation = 'softmax')\n",
        "])"
      ],
      "execution_count": 20,
      "outputs": []
    },
    {
      "cell_type": "code",
      "metadata": {
        "id": "XYT6SpSL4th8",
        "colab_type": "code",
        "colab": {
          "base_uri": "https://localhost:8080/",
          "height": 483
        },
        "outputId": "c99b2165-26ad-4656-e1c3-30833143ea13"
      },
      "source": [
        "model.summary()"
      ],
      "execution_count": 21,
      "outputs": [
        {
          "output_type": "stream",
          "text": [
            "Model: \"sequential_1\"\n",
            "_________________________________________________________________\n",
            "Layer (type)                 Output Shape              Param #   \n",
            "=================================================================\n",
            "conv2d_5 (Conv2D)            (None, 226, 226, 64)      1792      \n",
            "_________________________________________________________________\n",
            "max_pooling2d_3 (MaxPooling2 (None, 113, 113, 64)      0         \n",
            "_________________________________________________________________\n",
            "conv2d_6 (Conv2D)            (None, 113, 113, 64)      36928     \n",
            "_________________________________________________________________\n",
            "max_pooling2d_4 (MaxPooling2 (None, 56, 56, 64)        0         \n",
            "_________________________________________________________________\n",
            "flatten_1 (Flatten)          (None, 200704)            0         \n",
            "_________________________________________________________________\n",
            "dense_4 (Dense)              (None, 128)               25690240  \n",
            "_________________________________________________________________\n",
            "dropout_3 (Dropout)          (None, 128)               0         \n",
            "_________________________________________________________________\n",
            "dense_5 (Dense)              (None, 64)                8256      \n",
            "_________________________________________________________________\n",
            "dropout_4 (Dropout)          (None, 64)                0         \n",
            "_________________________________________________________________\n",
            "dense_6 (Dense)              (None, 2)                 130       \n",
            "=================================================================\n",
            "Total params: 25,737,346\n",
            "Trainable params: 25,737,346\n",
            "Non-trainable params: 0\n",
            "_________________________________________________________________\n"
          ],
          "name": "stdout"
        }
      ]
    },
    {
      "cell_type": "code",
      "metadata": {
        "id": "BhupYhWI4hm5",
        "colab_type": "code",
        "colab": {
          "base_uri": "https://localhost:8080/",
          "height": 150
        },
        "outputId": "cd6d4f91-cbe9-4f31-993d-320a6219fcd6"
      },
      "source": [
        "model.compile(optimizer = 'adam', loss = 'categorical_crossentropy', metrics=['accuracy'])\n",
        "early_stopping_monitor = keras.callbacks.EarlyStopping(patience = 3)\n",
        "history = model.fit(train_generator, validation_data = valid_generator, callbacks = [early_stopping_monitor],epochs= 15)"
      ],
      "execution_count": 22,
      "outputs": [
        {
          "output_type": "stream",
          "text": [
            "Epoch 1/15\n",
            "41/41 [==============================] - 107s 3s/step - loss: 0.6831 - accuracy: 0.7432 - val_loss: 0.6943 - val_accuracy: 0.5000\n",
            "Epoch 2/15\n",
            "41/41 [==============================] - 107s 3s/step - loss: 0.6665 - accuracy: 0.7446 - val_loss: 0.6963 - val_accuracy: 0.5000\n",
            "Epoch 3/15\n",
            "41/41 [==============================] - 107s 3s/step - loss: 0.6514 - accuracy: 0.7432 - val_loss: 0.7002 - val_accuracy: 0.5000\n",
            "Epoch 4/15\n",
            "41/41 [==============================] - 107s 3s/step - loss: 0.6377 - accuracy: 0.7432 - val_loss: 0.7046 - val_accuracy: 0.5000\n"
          ],
          "name": "stdout"
        }
      ]
    },
    {
      "cell_type": "code",
      "metadata": {
        "id": "Nlaz2smh43Rm",
        "colab_type": "code",
        "colab": {
          "base_uri": "https://localhost:8080/",
          "height": 50
        },
        "outputId": "c7a5002b-dbf0-4129-cd16-de5af6dea54b"
      },
      "source": [
        "model.evaluate(test_generator)"
      ],
      "execution_count": 23,
      "outputs": [
        {
          "output_type": "stream",
          "text": [
            "5/5 [==============================] - 10s 2s/step - loss: 0.6670 - accuracy: 0.6250\n"
          ],
          "name": "stdout"
        },
        {
          "output_type": "execute_result",
          "data": {
            "text/plain": [
              "[0.6669921875, 0.625]"
            ]
          },
          "metadata": {
            "tags": []
          },
          "execution_count": 23
        }
      ]
    },
    {
      "cell_type": "code",
      "metadata": {
        "id": "MucEXZgL5kGu",
        "colab_type": "code",
        "colab": {}
      },
      "source": [
        "prediction = model.predict(train_generator)"
      ],
      "execution_count": 24,
      "outputs": []
    },
    {
      "cell_type": "markdown",
      "metadata": {
        "id": "CvwjV-bJ8gJe",
        "colab_type": "text"
      },
      "source": [
        "Model Based on Alex net"
      ]
    },
    {
      "cell_type": "code",
      "metadata": {
        "id": "LDov9Uw98Keo",
        "colab_type": "code",
        "colab": {}
      },
      "source": [
        "model = keras.models.Sequential([\n",
        "                keras.layers.Conv2D(96, kernel_size=11, strides = 4,activation = 'relu', padding='VALID', input_shape = train_generator.image_shape),\n",
        "                keras.layers.MaxPooling2D(2, strides=2),\n",
        "                keras.layers.Conv2D(256, kernel_size=5, strides=1, activation = 'relu', padding='SAME'),\n",
        "                keras.layers.MaxPooling2D(2, strides=2),\n",
        "                keras.layers.Conv2D(384, kernel_size=3, strides=1, activation = 'relu', padding='SAME'),\n",
        "                keras.layers.Conv2D(384, kernel_size=3, strides=1, activation = 'relu', padding='SAME'),\n",
        "                keras.layers.Conv2D(256, kernel_size=3, strides=1, activation = 'relu', padding='SAME'),\n",
        "                keras.layers.MaxPooling2D(2, strides=2),\n",
        "                keras.layers.Flatten(),\n",
        "                keras.layers.Dense(units = 4096, activation='relu'),\n",
        "                keras.layers.Dropout(0.5),\n",
        "                keras.layers.Dense(units = 4096, activation='relu'),\n",
        "                keras.layers.Dropout(0.5),\n",
        "                keras.layers.Dense(units = 2, activation='softmax')\n",
        "])"
      ],
      "execution_count": 25,
      "outputs": []
    },
    {
      "cell_type": "code",
      "metadata": {
        "id": "LokUQxos-Jw2",
        "colab_type": "code",
        "colab": {
          "base_uri": "https://localhost:8080/",
          "height": 616
        },
        "outputId": "f127c07c-9ee4-492c-90b6-67d6f7f1b6c6"
      },
      "source": [
        "model.summary()"
      ],
      "execution_count": 26,
      "outputs": [
        {
          "output_type": "stream",
          "text": [
            "Model: \"sequential_2\"\n",
            "_________________________________________________________________\n",
            "Layer (type)                 Output Shape              Param #   \n",
            "=================================================================\n",
            "conv2d_7 (Conv2D)            (None, 54, 54, 96)        34944     \n",
            "_________________________________________________________________\n",
            "max_pooling2d_5 (MaxPooling2 (None, 27, 27, 96)        0         \n",
            "_________________________________________________________________\n",
            "conv2d_8 (Conv2D)            (None, 27, 27, 256)       614656    \n",
            "_________________________________________________________________\n",
            "max_pooling2d_6 (MaxPooling2 (None, 13, 13, 256)       0         \n",
            "_________________________________________________________________\n",
            "conv2d_9 (Conv2D)            (None, 13, 13, 384)       885120    \n",
            "_________________________________________________________________\n",
            "conv2d_10 (Conv2D)           (None, 13, 13, 384)       1327488   \n",
            "_________________________________________________________________\n",
            "conv2d_11 (Conv2D)           (None, 13, 13, 256)       884992    \n",
            "_________________________________________________________________\n",
            "max_pooling2d_7 (MaxPooling2 (None, 6, 6, 256)         0         \n",
            "_________________________________________________________________\n",
            "flatten_2 (Flatten)          (None, 9216)              0         \n",
            "_________________________________________________________________\n",
            "dense_7 (Dense)              (None, 4096)              37752832  \n",
            "_________________________________________________________________\n",
            "dropout_5 (Dropout)          (None, 4096)              0         \n",
            "_________________________________________________________________\n",
            "dense_8 (Dense)              (None, 4096)              16781312  \n",
            "_________________________________________________________________\n",
            "dropout_6 (Dropout)          (None, 4096)              0         \n",
            "_________________________________________________________________\n",
            "dense_9 (Dense)              (None, 2)                 8194      \n",
            "=================================================================\n",
            "Total params: 58,289,538\n",
            "Trainable params: 58,289,538\n",
            "Non-trainable params: 0\n",
            "_________________________________________________________________\n"
          ],
          "name": "stdout"
        }
      ]
    },
    {
      "cell_type": "code",
      "metadata": {
        "id": "3a26YbH6-SBz",
        "colab_type": "code",
        "colab": {
          "base_uri": "https://localhost:8080/",
          "height": 116
        },
        "outputId": "86790bf9-4cfa-4e89-ce67-46f655e0a82d"
      },
      "source": [
        "model.compile(optimizer = 'adam', loss = 'categorical_crossentropy', metrics=['accuracy'])\n",
        "early_stopping_monitor = keras.callbacks.EarlyStopping(patience = 3)\n",
        "history = model.fit(train_generator, validation_data = valid_generator, callbacks = [early_stopping_monitor],epochs= 15)"
      ],
      "execution_count": 29,
      "outputs": [
        {
          "output_type": "stream",
          "text": [
            "Epoch 1/15\n",
            "41/41 [==============================] - 102s 2s/step - loss: nan - accuracy: 0.2571 - val_loss: nan - val_accuracy: 0.5000\n",
            "Epoch 2/15\n",
            "41/41 [==============================] - 102s 2s/step - loss: nan - accuracy: 0.2571 - val_loss: nan - val_accuracy: 0.5000\n",
            "Epoch 3/15\n",
            "41/41 [==============================] - 102s 2s/step - loss: nan - accuracy: 0.2571 - val_loss: nan - val_accuracy: 0.5000\n"
          ],
          "name": "stdout"
        }
      ]
    },
    {
      "cell_type": "markdown",
      "metadata": {
        "id": "A-oTv5H8AqLC",
        "colab_type": "text"
      },
      "source": [
        "Test Model 4"
      ]
    },
    {
      "cell_type": "code",
      "metadata": {
        "id": "YvHuwDiv-VR0",
        "colab_type": "code",
        "colab": {}
      },
      "source": [
        "model = keras.models.Sequential()\n",
        "model.add(keras.layers.ZeroPadding2D((1,1),input_shape=train_generator.image_shape))\n",
        "model.add(keras.layers.Conv2D(64, (3, 3), activation='relu'))\n",
        "model.add(keras.layers.ZeroPadding2D((1,1)))\n",
        "model.add(keras.layers.Conv2D(64, (3, 3), activation='relu'))\n",
        "model.add(keras.layers.MaxPooling2D((2,2), strides=(2,2)))\n",
        "\n",
        "model.add(keras.layers.ZeroPadding2D((1,1)))\n",
        "model.add(keras.layers.Conv2D(128, (3, 3), activation='relu'))\n",
        "model.add(keras.layers.ZeroPadding2D((1,1)))\n",
        "model.add(keras.layers.Conv2D(128, (3, 3), activation='relu'))\n",
        "model.add(keras.layers.MaxPooling2D((2,2), strides=(2,2)))\n",
        "\n",
        "model.add(keras.layers.ZeroPadding2D((1,1)))\n",
        "model.add(keras.layers.Conv2D(256, (3, 3), activation='relu'))\n",
        "model.add(keras.layers.ZeroPadding2D((1,1)))\n",
        "model.add(keras.layers.Conv2D(256, (3, 3), activation='relu'))\n",
        "model.add(keras.layers.ZeroPadding2D((1,1)))\n",
        "model.add(keras.layers.Conv2D(256, (3, 3), activation='relu'))\n",
        "model.add(keras.layers.MaxPooling2D((2,2), strides=(2,2)))\n",
        "\n",
        "model.add(keras.layers.ZeroPadding2D((1,1)))\n",
        "model.add(keras.layers.Conv2D(512, (3, 3), activation='relu'))\n",
        "model.add(keras.layers.ZeroPadding2D((1,1)))\n",
        "model.add(keras.layers.Conv2D(512, (3, 3), activation='relu'))\n",
        "model.add(keras.layers.ZeroPadding2D((1,1)))\n",
        "model.add(keras.layers.Conv2D(512, (3, 3), activation='relu'))\n",
        "model.add(keras.layers.MaxPooling2D((2,2), strides=(2,2)))\n",
        "\n",
        "model.add(keras.layers.ZeroPadding2D((1,1)))\n",
        "model.add(keras.layers.Conv2D(512, (3, 3), activation='relu'))\n",
        "model.add(keras.layers.ZeroPadding2D((1,1)))\n",
        "model.add(keras.layers.Conv2D(512, (3, 3), activation='relu'))\n",
        "model.add(keras.layers.ZeroPadding2D((1,1)))\n",
        "model.add(keras.layers.Conv2D(512, (3, 3), activation='relu'))\n",
        "model.add(keras.layers.MaxPooling2D((2,2), strides=(2,2)))\n",
        "\n",
        "model.add(keras.layers.Flatten())\n",
        "model.add(keras.layers.Dense(4096, activation='relu'))\n",
        "model.add(keras.layers.Dropout(0.2))\n",
        "model.add(keras.layers.Dense(4096, activation='relu'))\n",
        "model.add(keras.layers.Dropout(0.2))\n",
        "model.add(keras.layers.Dense(2, activation='softmax'))"
      ],
      "execution_count": 30,
      "outputs": []
    },
    {
      "cell_type": "code",
      "metadata": {
        "id": "iyYF1RzOAsKY",
        "colab_type": "code",
        "colab": {
          "base_uri": "https://localhost:8080/",
          "height": 1000
        },
        "outputId": "6166c4e1-4f15-4d23-ebc9-050434c9afd8"
      },
      "source": [
        "model.summary()"
      ],
      "execution_count": 31,
      "outputs": [
        {
          "output_type": "stream",
          "text": [
            "Model: \"sequential_3\"\n",
            "_________________________________________________________________\n",
            "Layer (type)                 Output Shape              Param #   \n",
            "=================================================================\n",
            "zero_padding2d (ZeroPadding2 (None, 228, 228, 3)       0         \n",
            "_________________________________________________________________\n",
            "conv2d_12 (Conv2D)           (None, 226, 226, 64)      1792      \n",
            "_________________________________________________________________\n",
            "zero_padding2d_1 (ZeroPaddin (None, 228, 228, 64)      0         \n",
            "_________________________________________________________________\n",
            "conv2d_13 (Conv2D)           (None, 226, 226, 64)      36928     \n",
            "_________________________________________________________________\n",
            "max_pooling2d_8 (MaxPooling2 (None, 113, 113, 64)      0         \n",
            "_________________________________________________________________\n",
            "zero_padding2d_2 (ZeroPaddin (None, 115, 115, 64)      0         \n",
            "_________________________________________________________________\n",
            "conv2d_14 (Conv2D)           (None, 113, 113, 128)     73856     \n",
            "_________________________________________________________________\n",
            "zero_padding2d_3 (ZeroPaddin (None, 115, 115, 128)     0         \n",
            "_________________________________________________________________\n",
            "conv2d_15 (Conv2D)           (None, 113, 113, 128)     147584    \n",
            "_________________________________________________________________\n",
            "max_pooling2d_9 (MaxPooling2 (None, 56, 56, 128)       0         \n",
            "_________________________________________________________________\n",
            "zero_padding2d_4 (ZeroPaddin (None, 58, 58, 128)       0         \n",
            "_________________________________________________________________\n",
            "conv2d_16 (Conv2D)           (None, 56, 56, 256)       295168    \n",
            "_________________________________________________________________\n",
            "zero_padding2d_5 (ZeroPaddin (None, 58, 58, 256)       0         \n",
            "_________________________________________________________________\n",
            "conv2d_17 (Conv2D)           (None, 56, 56, 256)       590080    \n",
            "_________________________________________________________________\n",
            "zero_padding2d_6 (ZeroPaddin (None, 58, 58, 256)       0         \n",
            "_________________________________________________________________\n",
            "conv2d_18 (Conv2D)           (None, 56, 56, 256)       590080    \n",
            "_________________________________________________________________\n",
            "max_pooling2d_10 (MaxPooling (None, 28, 28, 256)       0         \n",
            "_________________________________________________________________\n",
            "zero_padding2d_7 (ZeroPaddin (None, 30, 30, 256)       0         \n",
            "_________________________________________________________________\n",
            "conv2d_19 (Conv2D)           (None, 28, 28, 512)       1180160   \n",
            "_________________________________________________________________\n",
            "zero_padding2d_8 (ZeroPaddin (None, 30, 30, 512)       0         \n",
            "_________________________________________________________________\n",
            "conv2d_20 (Conv2D)           (None, 28, 28, 512)       2359808   \n",
            "_________________________________________________________________\n",
            "zero_padding2d_9 (ZeroPaddin (None, 30, 30, 512)       0         \n",
            "_________________________________________________________________\n",
            "conv2d_21 (Conv2D)           (None, 28, 28, 512)       2359808   \n",
            "_________________________________________________________________\n",
            "max_pooling2d_11 (MaxPooling (None, 14, 14, 512)       0         \n",
            "_________________________________________________________________\n",
            "zero_padding2d_10 (ZeroPaddi (None, 16, 16, 512)       0         \n",
            "_________________________________________________________________\n",
            "conv2d_22 (Conv2D)           (None, 14, 14, 512)       2359808   \n",
            "_________________________________________________________________\n",
            "zero_padding2d_11 (ZeroPaddi (None, 16, 16, 512)       0         \n",
            "_________________________________________________________________\n",
            "conv2d_23 (Conv2D)           (None, 14, 14, 512)       2359808   \n",
            "_________________________________________________________________\n",
            "zero_padding2d_12 (ZeroPaddi (None, 16, 16, 512)       0         \n",
            "_________________________________________________________________\n",
            "conv2d_24 (Conv2D)           (None, 14, 14, 512)       2359808   \n",
            "_________________________________________________________________\n",
            "max_pooling2d_12 (MaxPooling (None, 7, 7, 512)         0         \n",
            "_________________________________________________________________\n",
            "flatten_3 (Flatten)          (None, 25088)             0         \n",
            "_________________________________________________________________\n",
            "dense_10 (Dense)             (None, 4096)              102764544 \n",
            "_________________________________________________________________\n",
            "dropout_7 (Dropout)          (None, 4096)              0         \n",
            "_________________________________________________________________\n",
            "dense_11 (Dense)             (None, 4096)              16781312  \n",
            "_________________________________________________________________\n",
            "dropout_8 (Dropout)          (None, 4096)              0         \n",
            "_________________________________________________________________\n",
            "dense_12 (Dense)             (None, 2)                 8194      \n",
            "=================================================================\n",
            "Total params: 134,268,738\n",
            "Trainable params: 134,268,738\n",
            "Non-trainable params: 0\n",
            "_________________________________________________________________\n"
          ],
          "name": "stdout"
        }
      ]
    },
    {
      "cell_type": "code",
      "metadata": {
        "id": "30hKqZZ8AvAq",
        "colab_type": "code",
        "colab": {
          "base_uri": "https://localhost:8080/",
          "height": 150
        },
        "outputId": "3ed6759b-8ecf-4440-d7d2-cedfb3f7523e"
      },
      "source": [
        "optimizer = keras.optimizers.Adam(lr = 0.001)\n",
        "early_stopping_monitor = keras.callbacks.EarlyStopping(patience = 3)\n",
        "model.compile(loss=\"categorical_crossentropy\", metrics=[\"accuracy\"], optimizer=optimizer)\n",
        "history = model.fit(train_generator,epochs=5, callbacks=[early_stopping_monitor], shuffle=True, validation_data=valid_generator)\n",
        "prediction = model.predict(train_generator)"
      ],
      "execution_count": 33,
      "outputs": [
        {
          "output_type": "stream",
          "text": [
            "Epoch 1/5\n",
            "41/41 [==============================] - 121s 3s/step - loss: 0.8345 - accuracy: 0.7368 - val_loss: 0.6934 - val_accuracy: 0.5000\n",
            "Epoch 2/5\n",
            "41/41 [==============================] - 116s 3s/step - loss: 0.6685 - accuracy: 0.7432 - val_loss: 0.6953 - val_accuracy: 0.5000\n",
            "Epoch 3/5\n",
            "41/41 [==============================] - 116s 3s/step - loss: 0.6528 - accuracy: 0.7422 - val_loss: 0.6992 - val_accuracy: 0.5000\n",
            "Epoch 4/5\n",
            "41/41 [==============================] - 116s 3s/step - loss: 0.6382 - accuracy: 0.7437 - val_loss: 0.7036 - val_accuracy: 0.5000\n"
          ],
          "name": "stdout"
        }
      ]
    },
    {
      "cell_type": "code",
      "metadata": {
        "id": "ukweB_OBF93o",
        "colab_type": "code",
        "colab": {}
      },
      "source": [
        "!nvidia-smi"
      ],
      "execution_count": null,
      "outputs": []
    },
    {
      "cell_type": "code",
      "metadata": {
        "id": "TYCHbDXnu8KR",
        "colab_type": "code",
        "colab": {}
      },
      "source": [
        ""
      ],
      "execution_count": null,
      "outputs": []
    }
  ]
}