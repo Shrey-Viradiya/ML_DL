{
  "nbformat": 4,
  "nbformat_minor": 0,
  "metadata": {
    "kernelspec": {
      "name": "python3",
      "display_name": "Python 3"
    },
    "colab": {
      "name": "Pneumonia_Classification.ipynb",
      "provenance": [],
      "toc_visible": true,
      "include_colab_link": true
    },
    "accelerator": "GPU"
  },
  "cells": [
    {
      "cell_type": "markdown",
      "metadata": {
        "id": "view-in-github",
        "colab_type": "text"
      },
      "source": [
        "<a href=\"https://colab.research.google.com/github/Shrey-Viradiya/ML_DL/blob/master/Pneumonia_Classification.ipynb\" target=\"_parent\"><img src=\"https://colab.research.google.com/assets/colab-badge.svg\" alt=\"Open In Colab\"/></a>"
      ]
    },
    {
      "cell_type": "markdown",
      "metadata": {
        "id": "k8TcXTB4UaRj",
        "colab_type": "text"
      },
      "source": [
        "# Pneumonia Classification Using Keras"
      ]
    },
    {
      "cell_type": "code",
      "metadata": {
        "id": "LG_kRrNfWHSr",
        "colab_type": "code",
        "colab": {
          "base_uri": "https://localhost:8080/",
          "height": 350
        },
        "outputId": "d2124aca-c203-4bff-c5b0-8cd6bd8f786c"
      },
      "source": [
        "!nvidia-smi"
      ],
      "execution_count": 1,
      "outputs": [
        {
          "output_type": "stream",
          "text": [
            "Fri Jun 19 08:23:49 2020       \n",
            "+-----------------------------------------------------------------------------+\n",
            "| NVIDIA-SMI 450.36.06    Driver Version: 418.67       CUDA Version: 10.1     |\n",
            "|-------------------------------+----------------------+----------------------+\n",
            "| GPU  Name        Persistence-M| Bus-Id        Disp.A | Volatile Uncorr. ECC |\n",
            "| Fan  Temp  Perf  Pwr:Usage/Cap|         Memory-Usage | GPU-Util  Compute M. |\n",
            "|                               |                      |               MIG M. |\n",
            "|===============================+======================+======================|\n",
            "|   0  Tesla T4            Off  | 00000000:00:04.0 Off |                    0 |\n",
            "| N/A   74C    P8    12W /  70W |      0MiB / 15079MiB |      0%      Default |\n",
            "|                               |                      |                 ERR! |\n",
            "+-------------------------------+----------------------+----------------------+\n",
            "                                                                               \n",
            "+-----------------------------------------------------------------------------+\n",
            "| Processes:                                                                  |\n",
            "|  GPU   GI   CI        PID   Type   Process name                  GPU Memory |\n",
            "|        ID   ID                                                   Usage      |\n",
            "|=============================================================================|\n",
            "|  No running processes found                                                 |\n",
            "+-----------------------------------------------------------------------------+\n"
          ],
          "name": "stdout"
        }
      ]
    },
    {
      "cell_type": "markdown",
      "metadata": {
        "id": "nLxQWTL2WN5W",
        "colab_type": "text"
      },
      "source": [
        "## Upload your kaggle token (i.e. kaggle.json) and then run it."
      ]
    },
    {
      "cell_type": "code",
      "metadata": {
        "id": "62SgkzmkVxFC",
        "colab_type": "code",
        "colab": {}
      },
      "source": [
        "!mkdir -p ~/.kaggle\n",
        "!cp kaggle.json ~/.kaggle/"
      ],
      "execution_count": 2,
      "outputs": []
    },
    {
      "cell_type": "code",
      "metadata": {
        "id": "COgV7nGdUpi2",
        "colab_type": "code",
        "colab": {
          "base_uri": "https://localhost:8080/",
          "height": 70
        },
        "outputId": "5f1431a3-fac8-4b50-f4e0-607caf83140f"
      },
      "source": [
        "!kaggle datasets download -d paultimothymooney/chest-xray-pneumonia"
      ],
      "execution_count": 3,
      "outputs": [
        {
          "output_type": "stream",
          "text": [
            "Warning: Your Kaggle API key is readable by other users on this system! To fix this, you can run 'chmod 600 /root/.kaggle/kaggle.json'\n",
            "chest-xray-pneumonia.zip: Skipping, found more recently modified local copy (use --force to force download)\n"
          ],
          "name": "stdout"
        }
      ]
    },
    {
      "cell_type": "code",
      "metadata": {
        "id": "HB3N3HmpVJtp",
        "colab_type": "code",
        "colab": {
          "base_uri": "https://localhost:8080/",
          "height": 33
        },
        "outputId": "94c6bd6d-5615-4559-a1e7-9fa08b49b78d"
      },
      "source": [
        "![! -d './chest_xray/'] && unzip chest-xray-pneumonia.zip"
      ],
      "execution_count": 4,
      "outputs": [
        {
          "output_type": "stream",
          "text": [
            "/bin/bash: [!: command not found\n"
          ],
          "name": "stdout"
        }
      ]
    },
    {
      "cell_type": "code",
      "metadata": {
        "id": "QiXWWrsJVbPl",
        "colab_type": "code",
        "colab": {}
      },
      "source": [
        "!rm -r chest_xray/chest_xray/ -f\n",
        "!rm -r chest_xray/__MACOSX/ -f"
      ],
      "execution_count": 5,
      "outputs": []
    },
    {
      "cell_type": "markdown",
      "metadata": {
        "id": "_Ggk2EI1UkIL",
        "colab_type": "text"
      },
      "source": [
        "### Dataset available at: https://www.kaggle.com/paultimothymooney/chest-xray-pneumonia"
      ]
    },
    {
      "cell_type": "markdown",
      "metadata": {
        "id": "fW-jFj4ZUfVZ",
        "colab_type": "text"
      },
      "source": [
        "Importing Libraries"
      ]
    },
    {
      "cell_type": "code",
      "metadata": {
        "id": "xEXYTyNwUaRl",
        "colab_type": "code",
        "colab": {}
      },
      "source": [
        "import numpy as np\n",
        "import matplotlib.pyplot as plt\n",
        "import tensorflow as tf\n",
        "import tensorflow.keras as keras"
      ],
      "execution_count": 6,
      "outputs": []
    },
    {
      "cell_type": "code",
      "metadata": {
        "id": "dzT5kTKPFyh6",
        "colab_type": "code",
        "colab": {}
      },
      "source": [
        "tf.keras.backend.set_floatx(\n",
        "    'float16'\n",
        ")"
      ],
      "execution_count": 7,
      "outputs": []
    },
    {
      "cell_type": "code",
      "metadata": {
        "id": "EaXKPiwJUaRp",
        "colab_type": "code",
        "colab": {}
      },
      "source": [
        "train_directory = 'chest_xray/train/'\n",
        "test_directory = 'chest_xray/test/'\n",
        "valid_directory = 'chest_xray/val/'"
      ],
      "execution_count": 8,
      "outputs": []
    },
    {
      "cell_type": "markdown",
      "metadata": {
        "id": "SwGaWk3CUaRt",
        "colab_type": "text"
      },
      "source": [
        "## Exploring data"
      ]
    },
    {
      "cell_type": "code",
      "metadata": {
        "id": "wdelrJKrUaRu",
        "colab_type": "code",
        "colab": {
          "base_uri": "https://localhost:8080/",
          "height": 315
        },
        "outputId": "dc92f3c0-6f96-4735-9adf-81d0a2f5e4fc"
      },
      "source": [
        "import os\n",
        "from PIL import Image\n",
        "\n",
        "print(\"Let's plot some random images\")\n",
        "print(\"-----------------------------\")\n",
        "\n",
        "images = os.listdir(train_directory+'NORMAL')\n",
        "name1 = images[np.random.randint(0,len(images))]\n",
        "path1 = train_directory + \"NORMAL/\" + name1\n",
        "\n",
        "images = os.listdir(train_directory+'PNEUMONIA')\n",
        "name2 = images[np.random.randint(0,len(images))]\n",
        "path2 = train_directory + \"PNEUMONIA/\" + name2\n",
        "\n",
        "plt.figure(figsize= (10,6))\n",
        "\n",
        "plt.subplot(121)\n",
        "plt.imshow(Image.open(path1), cmap='gray')\n",
        "plt.title(name1)\n",
        "\n",
        "plt.subplot(122)\n",
        "plt.imshow(Image.open(path2), cmap='gray')\n",
        "plt.title(name2)"
      ],
      "execution_count": 9,
      "outputs": [
        {
          "output_type": "stream",
          "text": [
            "Let's plot some random images\n",
            "-----------------------------\n"
          ],
          "name": "stdout"
        },
        {
          "output_type": "execute_result",
          "data": {
            "text/plain": [
              "Text(0.5, 1.0, 'person1611_bacteria_4241.jpeg')"
            ]
          },
          "metadata": {
            "tags": []
          },
          "execution_count": 9
        },
        {
          "output_type": "display_data",
          "data": {
            "image/png": "[encoded data removed]",
            "text/plain": [
              "<Figure size 720x432 with 2 Axes>"
            ]
          },
          "metadata": {
            "tags": [],
            "needs_background": "light"
          }
        }
      ]
    },
    {
      "cell_type": "markdown",
      "metadata": {
        "id": "MD90D1OmUaRz",
        "colab_type": "text"
      },
      "source": [
        "## Creating ImageDataGenerators"
      ]
    },
    {
      "cell_type": "code",
      "metadata": {
        "id": "grNqU66x3m_G",
        "colab_type": "code",
        "colab": {}
      },
      "source": [
        "target_size = (226,226)"
      ],
      "execution_count": 10,
      "outputs": []
    },
    {
      "cell_type": "code",
      "metadata": {
        "id": "yvuQqCktUaR0",
        "colab_type": "code",
        "colab": {
          "base_uri": "https://localhost:8080/",
          "height": 33
        },
        "outputId": "78765c46-ae22-408e-d176-98df9a2e7c45"
      },
      "source": [
        "train_datagen = keras.preprocessing.image.ImageDataGenerator(rescale=1./255, shear_range = 0.2, zoom_range = 0.2, horizontal_flip=True)\n",
        "train_generator = train_datagen.flow_from_directory(\n",
        "    train_directory,\n",
        "    target_size=target_size,\n",
        "    batch_size=128,\n",
        "    class_mode='categorical',\n",
        ")"
      ],
      "execution_count": 11,
      "outputs": [
        {
          "output_type": "stream",
          "text": [
            "Found 5216 images belonging to 2 classes.\n"
          ],
          "name": "stdout"
        }
      ]
    },
    {
      "cell_type": "code",
      "metadata": {
        "id": "PTKKzG-zUaR5",
        "colab_type": "code",
        "colab": {
          "base_uri": "https://localhost:8080/",
          "height": 33
        },
        "outputId": "efe199e7-53c9-4aef-ec39-98d2f5e3897e"
      },
      "source": [
        "test_datagen = keras.preprocessing.image.ImageDataGenerator(rescale=1./255, shear_range = 0.2, zoom_range = 0.2, horizontal_flip=True)\n",
        "test_generator = test_datagen.flow_from_directory(\n",
        "    test_directory,\n",
        "    target_size=target_size,\n",
        "    batch_size=128,\n",
        "    class_mode='categorical'\n",
        ")"
      ],
      "execution_count": 12,
      "outputs": [
        {
          "output_type": "stream",
          "text": [
            "Found 624 images belonging to 2 classes.\n"
          ],
          "name": "stdout"
        }
      ]
    },
    {
      "cell_type": "code",
      "metadata": {
        "id": "s-Is9ibAUaR9",
        "colab_type": "code",
        "colab": {
          "base_uri": "https://localhost:8080/",
          "height": 33
        },
        "outputId": "dc999ac7-5d15-426b-c606-8fb45e3e4101"
      },
      "source": [
        "valid_datagen = keras.preprocessing.image.ImageDataGenerator(rescale=1./255, shear_range = 0.2, zoom_range = 0.2, horizontal_flip=True)\n",
        "valid_generator = valid_datagen.flow_from_directory(\n",
        "    valid_directory,\n",
        "    target_size=target_size,\n",
        "    batch_size=128,\n",
        "    class_mode='categorical'\n",
        ")"
      ],
      "execution_count": 13,
      "outputs": [
        {
          "output_type": "stream",
          "text": [
            "Found 16 images belonging to 2 classes.\n"
          ],
          "name": "stdout"
        }
      ]
    },
    {
      "cell_type": "code",
      "metadata": {
        "id": "i59bNKCg5ZJ6",
        "colab_type": "code",
        "colab": {
          "base_uri": "https://localhost:8080/",
          "height": 33
        },
        "outputId": "353d2067-4d19-4dc1-f1fb-383f4930cf47"
      },
      "source": [
        "train_generator.image_shape"
      ],
      "execution_count": 14,
      "outputs": [
        {
          "output_type": "execute_result",
          "data": {
            "text/plain": [
              "(226, 226, 3)"
            ]
          },
          "metadata": {
            "tags": []
          },
          "execution_count": 14
        }
      ]
    },
    {
      "cell_type": "code",
      "metadata": {
        "id": "DoH3BikDgUvz",
        "colab_type": "code",
        "colab": {
          "base_uri": "https://localhost:8080/",
          "height": 33
        },
        "outputId": "219c6476-096b-43af-b7ba-8ec9339b6e37"
      },
      "source": [
        "train_generator.class_indices"
      ],
      "execution_count": 15,
      "outputs": [
        {
          "output_type": "execute_result",
          "data": {
            "text/plain": [
              "{'NORMAL': 0, 'PNEUMONIA': 1}"
            ]
          },
          "metadata": {
            "tags": []
          },
          "execution_count": 15
        }
      ]
    },
    {
      "cell_type": "markdown",
      "metadata": {
        "id": "e_TRv8VoUaSB",
        "colab_type": "text"
      },
      "source": [
        "### Creating Model"
      ]
    },
    {
      "cell_type": "markdown",
      "metadata": {
        "id": "QzUNKuI734Un",
        "colab_type": "text"
      },
      "source": [
        "Test Model 1"
      ]
    },
    {
      "cell_type": "code",
      "metadata": {
        "id": "siMLP1lFUaSC",
        "colab_type": "code",
        "colab": {}
      },
      "source": [
        "from functools import partial\n",
        "\n",
        "DefaultConv2D = partial(keras.layers.Conv2D,\n",
        "                        kernel_size=3, activation='relu', padding=\"SAME\")\n",
        "\n",
        "model = keras.models.Sequential([\n",
        "    DefaultConv2D(filters = 64, kernel_size = 7, input_shape=train_generator.image_shape),\n",
        "    keras.layers.MaxPooling2D(pool_size=2),\n",
        "    DefaultConv2D(filters=128),\n",
        "    DefaultConv2D(filters=128),\n",
        "    keras.layers.MaxPooling2D(pool_size=2),\n",
        "    DefaultConv2D(filters=256),\n",
        "    DefaultConv2D(filters=256),\n",
        "    keras.layers.MaxPooling2D(pool_size=2),\n",
        "    keras.layers.Flatten(),\n",
        "    keras.layers.Dense(units=128, activation='relu'),\n",
        "    keras.layers.Dropout(0.5),\n",
        "    keras.layers.Dense(units=64, activation='relu'),\n",
        "    keras.layers.Dropout(0.5),\n",
        "    keras.layers.Dense(units=32, activation='relu'),\n",
        "    keras.layers.Dropout(0.5),\n",
        "    keras.layers.Dense(units=2, activation='softmax')\n",
        "])"
      ],
      "execution_count": 16,
      "outputs": []
    },
    {
      "cell_type": "code",
      "metadata": {
        "id": "9g1YrVqYUaSH",
        "colab_type": "code",
        "colab": {
          "base_uri": "https://localhost:8080/",
          "height": 683
        },
        "outputId": "ea2e101e-c2c1-4f53-b879-d0a33bf76612"
      },
      "source": [
        "model.summary()"
      ],
      "execution_count": 17,
      "outputs": [
        {
          "output_type": "stream",
          "text": [
            "Model: \"sequential\"\n",
            "_________________________________________________________________\n",
            "Layer (type)                 Output Shape              Param #   \n",
            "=================================================================\n",
            "conv2d (Conv2D)              (None, 226, 226, 64)      9472      \n",
            "_________________________________________________________________\n",
            "max_pooling2d (MaxPooling2D) (None, 113, 113, 64)      0         \n",
            "_________________________________________________________________\n",
            "conv2d_1 (Conv2D)            (None, 113, 113, 128)     73856     \n",
            "_________________________________________________________________\n",
            "conv2d_2 (Conv2D)            (None, 113, 113, 128)     147584    \n",
            "_________________________________________________________________\n",
            "max_pooling2d_1 (MaxPooling2 (None, 56, 56, 128)       0         \n",
            "_________________________________________________________________\n",
            "conv2d_3 (Conv2D)            (None, 56, 56, 256)       295168    \n",
            "_________________________________________________________________\n",
            "conv2d_4 (Conv2D)            (None, 56, 56, 256)       590080    \n",
            "_________________________________________________________________\n",
            "max_pooling2d_2 (MaxPooling2 (None, 28, 28, 256)       0         \n",
            "_________________________________________________________________\n",
            "flatten (Flatten)            (None, 200704)            0         \n",
            "_________________________________________________________________\n",
            "dense (Dense)                (None, 128)               25690240  \n",
            "_________________________________________________________________\n",
            "dropout (Dropout)            (None, 128)               0         \n",
            "_________________________________________________________________\n",
            "dense_1 (Dense)              (None, 64)                8256      \n",
            "_________________________________________________________________\n",
            "dropout_1 (Dropout)          (None, 64)                0         \n",
            "_________________________________________________________________\n",
            "dense_2 (Dense)              (None, 32)                2080      \n",
            "_________________________________________________________________\n",
            "dropout_2 (Dropout)          (None, 32)                0         \n",
            "_________________________________________________________________\n",
            "dense_3 (Dense)              (None, 2)                 66        \n",
            "=================================================================\n",
            "Total params: 26,816,802\n",
            "Trainable params: 26,816,802\n",
            "Non-trainable params: 0\n",
            "_________________________________________________________________\n"
          ],
          "name": "stdout"
        }
      ]
    },
    {
      "cell_type": "code",
      "metadata": {
        "id": "dfa7_6H5UaSP",
        "colab_type": "code",
        "colab": {
          "base_uri": "https://localhost:8080/",
          "height": 313
        },
        "outputId": "191260e3-572e-47ca-97f7-72a7f20d4dc4"
      },
      "source": [
        "model.compile(optimizer = 'adam', loss = 'sparse_categorical_crossentropy', metrics=['accuracy'])\n",
        "early_stopping_monitor = keras.callbacks.EarlyStopping(patience = 3)\n",
        "history = model.fit(train_generator, validation_data = valid_generator, callbacks = [early_stopping_monitor],epochs= 15)"
      ],
      "execution_count": 18,
      "outputs": [
        {
          "output_type": "error",
          "ename": "TypeError",
          "evalue": "ignored",
          "traceback": [
            "\u001b[0;31m---------------------------------------------------------------------------\u001b[0m",
            "\u001b[0;31mTypeError\u001b[0m                                 Traceback (most recent call last)",
            "\u001b[0;32m<ipython-input-18-144d2bf33b0c>\u001b[0m in \u001b[0;36m<module>\u001b[0;34m()\u001b[0m\n\u001b[1;32m      1\u001b[0m \u001b[0mmodel\u001b[0m\u001b[0;34m.\u001b[0m\u001b[0mcompile\u001b[0m\u001b[0;34m(\u001b[0m\u001b[0moptimizer\u001b[0m \u001b[0;34m=\u001b[0m \u001b[0;34m'adam'\u001b[0m\u001b[0;34m,\u001b[0m \u001b[0mloss\u001b[0m \u001b[0;34m=\u001b[0m \u001b[0;34m'sparse_categorical_crossentropy'\u001b[0m\u001b[0;34m,\u001b[0m \u001b[0mmetrics\u001b[0m\u001b[0;34m=\u001b[0m\u001b[0;34m[\u001b[0m\u001b[0;34m'accuracy'\u001b[0m\u001b[0;34m]\u001b[0m\u001b[0;34m)\u001b[0m\u001b[0;34m\u001b[0m\u001b[0;34m\u001b[0m\u001b[0m\n\u001b[1;32m      2\u001b[0m \u001b[0mearly_stopping_monitor\u001b[0m \u001b[0;34m=\u001b[0m \u001b[0mkeras\u001b[0m\u001b[0;34m.\u001b[0m\u001b[0mcallbacks\u001b[0m\u001b[0;34m.\u001b[0m\u001b[0mEarlyStopping\u001b[0m\u001b[0;34m(\u001b[0m\u001b[0mpatience\u001b[0m \u001b[0;34m=\u001b[0m \u001b[0;36m3\u001b[0m\u001b[0;34m)\u001b[0m\u001b[0;34m\u001b[0m\u001b[0;34m\u001b[0m\u001b[0m\n\u001b[0;32m----> 3\u001b[0;31m \u001b[0mhistory\u001b[0m \u001b[0;34m=\u001b[0m \u001b[0mmodel\u001b[0m\u001b[0;34m.\u001b[0m\u001b[0mfit\u001b[0m\u001b[0;34m(\u001b[0m\u001b[0mtrain_generator\u001b[0m\u001b[0;34m,\u001b[0m \u001b[0mvalidation_data\u001b[0m \u001b[0;34m=\u001b[0m \u001b[0mvalid_generator\u001b[0m\u001b[0;34m,\u001b[0m \u001b[0mcallbaccks\u001b[0m \u001b[0;34m=\u001b[0m \u001b[0;34m[\u001b[0m\u001b[0mearly_stopping_monitor\u001b[0m\u001b[0;34m]\u001b[0m\u001b[0;34m,\u001b[0m\u001b[0mepochs\u001b[0m\u001b[0;34m=\u001b[0m \u001b[0;36m15\u001b[0m\u001b[0;34m)\u001b[0m\u001b[0;34m\u001b[0m\u001b[0;34m\u001b[0m\u001b[0m\n\u001b[0m",
            "\u001b[0;32m/usr/local/lib/python3.6/dist-packages/tensorflow/python/keras/engine/training.py\u001b[0m in \u001b[0;36m_method_wrapper\u001b[0;34m(self, *args, **kwargs)\u001b[0m\n\u001b[1;32m     64\u001b[0m   \u001b[0;32mdef\u001b[0m \u001b[0m_method_wrapper\u001b[0m\u001b[0;34m(\u001b[0m\u001b[0mself\u001b[0m\u001b[0;34m,\u001b[0m \u001b[0;34m*\u001b[0m\u001b[0margs\u001b[0m\u001b[0;34m,\u001b[0m \u001b[0;34m**\u001b[0m\u001b[0mkwargs\u001b[0m\u001b[0;34m)\u001b[0m\u001b[0;34m:\u001b[0m\u001b[0;34m\u001b[0m\u001b[0;34m\u001b[0m\u001b[0m\n\u001b[1;32m     65\u001b[0m     \u001b[0;32mif\u001b[0m \u001b[0;32mnot\u001b[0m \u001b[0mself\u001b[0m\u001b[0;34m.\u001b[0m\u001b[0m_in_multi_worker_mode\u001b[0m\u001b[0;34m(\u001b[0m\u001b[0;34m)\u001b[0m\u001b[0;34m:\u001b[0m  \u001b[0;31m# pylint: disable=protected-access\u001b[0m\u001b[0;34m\u001b[0m\u001b[0;34m\u001b[0m\u001b[0m\n\u001b[0;32m---> 66\u001b[0;31m       \u001b[0;32mreturn\u001b[0m \u001b[0mmethod\u001b[0m\u001b[0;34m(\u001b[0m\u001b[0mself\u001b[0m\u001b[0;34m,\u001b[0m \u001b[0;34m*\u001b[0m\u001b[0margs\u001b[0m\u001b[0;34m,\u001b[0m \u001b[0;34m**\u001b[0m\u001b[0mkwargs\u001b[0m\u001b[0;34m)\u001b[0m\u001b[0;34m\u001b[0m\u001b[0;34m\u001b[0m\u001b[0m\n\u001b[0m\u001b[1;32m     67\u001b[0m \u001b[0;34m\u001b[0m\u001b[0m\n\u001b[1;32m     68\u001b[0m     \u001b[0;31m# Running inside `run_distribute_coordinator` already.\u001b[0m\u001b[0;34m\u001b[0m\u001b[0;34m\u001b[0m\u001b[0;34m\u001b[0m\u001b[0m\n",
            "\u001b[0;31mTypeError\u001b[0m: fit() got an unexpected keyword argument 'callbaccks'"
          ]
        }
      ]
    },
    {
      "cell_type": "markdown",
      "metadata": {
        "id": "CZYMvYVg36b9",
        "colab_type": "text"
      },
      "source": [
        "Test Model 2"
      ]
    },
    {
      "cell_type": "code",
      "metadata": {
        "id": "QHEzVC33UaST",
        "colab_type": "code",
        "colab": {}
      },
      "source": [
        "model = keras.models.Sequential([\n",
        "                                 keras.layers.Conv2D(64, kernel_size=3, activation = 'relu', padding='SAME', input_shape = train_generator.image_shape),\n",
        "                                 keras.layers.MaxPooling2D(2),\n",
        "                                 keras.layers.Conv2D(64, kernel_size=3, activation = 'relu', padding='SAME'),\n",
        "                                 keras.layers.MaxPooling2D(2),\n",
        "                                 keras.layers.Flatten(),\n",
        "                                 keras.layers.Dense(128, activation='relu'),\n",
        "                                 keras.layers.Dropout(0.3),\n",
        "                                 keras.layers.Dense(64, activation='relu'),\n",
        "                                 keras.layers.Dropout(0.3),\n",
        "                                 keras.layers.Dense(2, activation = 'softmax')\n",
        "])"
      ],
      "execution_count": null,
      "outputs": []
    },
    {
      "cell_type": "code",
      "metadata": {
        "id": "XYT6SpSL4th8",
        "colab_type": "code",
        "colab": {}
      },
      "source": [
        "model.summary()"
      ],
      "execution_count": null,
      "outputs": []
    },
    {
      "cell_type": "code",
      "metadata": {
        "id": "BhupYhWI4hm5",
        "colab_type": "code",
        "colab": {}
      },
      "source": [
        "model.compile(optimizer = 'adam', loss = 'sparse_categorical_crossentropy', metrics=['accuracy'])\n",
        "early_stopping_monitor = keras.callbacks.EarlyStopping(patience = 3)\n",
        "history = model.fit(train_generator, validation_data = valid_generator, callbacks = [early_stopping_monitor],epochs= 15)"
      ],
      "execution_count": null,
      "outputs": []
    },
    {
      "cell_type": "code",
      "metadata": {
        "id": "Nlaz2smh43Rm",
        "colab_type": "code",
        "colab": {}
      },
      "source": [
        "model.evaluate(test_generator)"
      ],
      "execution_count": null,
      "outputs": []
    },
    {
      "cell_type": "code",
      "metadata": {
        "id": "MucEXZgL5kGu",
        "colab_type": "code",
        "colab": {}
      },
      "source": [
        "prediction = model.predict(train_generator)"
      ],
      "execution_count": null,
      "outputs": []
    },
    {
      "cell_type": "markdown",
      "metadata": {
        "id": "CvwjV-bJ8gJe",
        "colab_type": "text"
      },
      "source": [
        "Model Based on Alex net"
      ]
    },
    {
      "cell_type": "code",
      "metadata": {
        "id": "LDov9Uw98Keo",
        "colab_type": "code",
        "colab": {}
      },
      "source": [
        "model = keras.models.Sequential([\n",
        "                keras.layers.Conv2D(96, kernel_size=11, strides = 4,activation = 'relu', padding='VALID', input_shape = train_generator.image_shape),\n",
        "                keras.layers.MaxPooling2D(2, strides=2),\n",
        "                keras.layers.Conv2D(256, kernel_size=5, strides=1, activation = 'relu', padding='SAME'),\n",
        "                keras.layers.MaxPooling2D(2, strides=2),\n",
        "                keras.layers.Conv2D(384, kernel_size=3, strides=1, activation = 'relu', padding='SAME'),\n",
        "                keras.layers.Conv2D(384, kernel_size=3, strides=1, activation = 'relu', padding='SAME'),\n",
        "                keras.layers.Conv2D(256, kernel_size=3, strides=1, activation = 'relu', padding='SAME'),\n",
        "                keras.layers.MaxPooling2D(2, strides=2),\n",
        "                keras.layers.Flatten(),\n",
        "                keras.layers.Dense(units = 4096, activation='relu'),\n",
        "                keras.layers.Dropout(0.5),\n",
        "                keras.layers.Dense(units = 4096, activation='relu'),\n",
        "                keras.layers.Dropout(0.5),\n",
        "                keras.layers.Dense(units = 2, activation='softmax')\n",
        "])"
      ],
      "execution_count": null,
      "outputs": []
    },
    {
      "cell_type": "code",
      "metadata": {
        "id": "LokUQxos-Jw2",
        "colab_type": "code",
        "colab": {}
      },
      "source": [
        "model.summary()"
      ],
      "execution_count": null,
      "outputs": []
    },
    {
      "cell_type": "code",
      "metadata": {
        "id": "3a26YbH6-SBz",
        "colab_type": "code",
        "colab": {}
      },
      "source": [
        "model.compile(optimizer = 'adam', loss = 'sparse_categorical_crossentropy', metrics=['accuracy'])\n",
        "early_stopping_monitor = keras.callbacks.EarlyStopping(patience = 3)\n",
        "history = model.fit(train_generator, validation_data = valid_generator, callbacks = [early_stopping_monitor],epochs= 15)"
      ],
      "execution_count": null,
      "outputs": []
    },
    {
      "cell_type": "markdown",
      "metadata": {
        "id": "A-oTv5H8AqLC",
        "colab_type": "text"
      },
      "source": [
        "Test Model 4"
      ]
    },
    {
      "cell_type": "code",
      "metadata": {
        "id": "YvHuwDiv-VR0",
        "colab_type": "code",
        "colab": {}
      },
      "source": [
        "model = keras.models.Sequential()\n",
        "model.add(keras.layers.ZeroPadding2D((1,1),input_shape=train_generator.image_shape))\n",
        "model.add(keras.layers.Conv2D(64, (3, 3), activation='relu'))\n",
        "model.add(keras.layers.ZeroPadding2D((1,1)))\n",
        "model.add(keras.layers.Conv2D(64, (3, 3), activation='relu'))\n",
        "model.add(keras.layers.MaxPooling2D((2,2), strides=(2,2)))\n",
        "\n",
        "model.add(keras.layers.ZeroPadding2D((1,1)))\n",
        "model.add(keras.layers.Conv2D(128, (3, 3), activation='relu'))\n",
        "model.add(keras.layers.ZeroPadding2D((1,1)))\n",
        "model.add(keras.layers.Conv2D(128, (3, 3), activation='relu'))\n",
        "model.add(keras.layers.MaxPooling2D((2,2), strides=(2,2)))\n",
        "\n",
        "model.add(keras.layers.ZeroPadding2D((1,1)))\n",
        "model.add(keras.layers.Conv2D(256, (3, 3), activation='relu'))\n",
        "model.add(keras.layers.ZeroPadding2D((1,1)))\n",
        "model.add(keras.layers.Conv2D(256, (3, 3), activation='relu'))\n",
        "model.add(keras.layers.ZeroPadding2D((1,1)))\n",
        "model.add(keras.layers.Conv2D(256, (3, 3), activation='relu'))\n",
        "model.add(keras.layers.MaxPooling2D((2,2), strides=(2,2)))\n",
        "\n",
        "model.add(keras.layers.ZeroPadding2D((1,1)))\n",
        "model.add(keras.layers.Conv2D(512, (3, 3), activation='relu'))\n",
        "model.add(keras.layers.ZeroPadding2D((1,1)))\n",
        "model.add(keras.layers.Conv2D(512, (3, 3), activation='relu'))\n",
        "model.add(keras.layers.ZeroPadding2D((1,1)))\n",
        "model.add(keras.layers.Conv2D(512, (3, 3), activation='relu'))\n",
        "model.add(keras.layers.MaxPooling2D((2,2), strides=(2,2)))\n",
        "\n",
        "model.add(keras.layers.ZeroPadding2D((1,1)))\n",
        "model.add(keras.layers.Conv2D(512, (3, 3), activation='relu'))\n",
        "model.add(keras.layers.ZeroPadding2D((1,1)))\n",
        "model.add(keras.layers.Conv2D(512, (3, 3), activation='relu'))\n",
        "model.add(keras.layers.ZeroPadding2D((1,1)))\n",
        "model.add(keras.layers.Conv2D(512, (3, 3), activation='relu'))\n",
        "model.add(keras.layers.MaxPooling2D((2,2), strides=(2,2)))\n",
        "\n",
        "model.add(keras.layers.Flatten())\n",
        "model.add(keras.layers.Dense(4096, activation='relu'))\n",
        "model.add(keras.layers.Dropout(0.2))\n",
        "model.add(keras.layers.Dense(4096, activation='relu'))\n",
        "model.add(keras.layers.Dropout(0.2))\n",
        "model.add(keras.layers.Dense(2, activation='softmax'))"
      ],
      "execution_count": null,
      "outputs": []
    },
    {
      "cell_type": "code",
      "metadata": {
        "id": "iyYF1RzOAsKY",
        "colab_type": "code",
        "colab": {}
      },
      "source": [
        "model.summary()"
      ],
      "execution_count": null,
      "outputs": []
    },
    {
      "cell_type": "code",
      "metadata": {
        "id": "30hKqZZ8AvAq",
        "colab_type": "code",
        "colab": {}
      },
      "source": [
        "optimizer = keras.optimizers.Adam(lr = 0.001)\n",
        "early_stopping_monitor = keras.callbacks.EarlyStopping(patience = 3)\n",
        "model.compile(loss=\"sparse_categorical_crossentropy\", metrics=[\"accuracy\"], optimizer=optimizer)\n",
        "history = model.fit(train_generator,epochs=5, callbacks=[early_stopping_monitor], shuffle=True, validation_data=valid_generator)\n",
        "prediction = model.predict(train_generator)"
      ],
      "execution_count": null,
      "outputs": []
    },
    {
      "cell_type": "code",
      "metadata": {
        "id": "ukweB_OBF93o",
        "colab_type": "code",
        "colab": {}
      },
      "source": [
        "!nvidia-smi"
      ],
      "execution_count": null,
      "outputs": []
    }
  ]
}